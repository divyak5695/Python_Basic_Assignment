{
  "nbformat": 4,
  "nbformat_minor": 0,
  "metadata": {
    "colab": {
      "provenance": []
    },
    "kernelspec": {
      "name": "python3",
      "display_name": "Python 3"
    },
    "language_info": {
      "name": "python"
    }
  },
  "cells": [
    {
      "cell_type": "markdown",
      "source": [
        "1  What is a RESTful API?\n",
        "\n",
        "\n",
        "Ans    A RESTful API (Representational State Transfer API) is a type of web service that allows applications to communicate with each other over the internet using standard HTTP methods. It adheres to the principles of REST, an architectural style introduced by Roy Fielding in 2000, which emphasizes scalability, simplicity, and stateless communication"
      ],
      "metadata": {
        "id": "EVnzpvGAqNe0"
      }
    },
    {
      "cell_type": "markdown",
      "source": [
        "2   Explain the concept of API specification?\n",
        "\n",
        "\n",
        "Ans  A comprehensive API specification typically includes:\n",
        "\n",
        "Endpoints: The specific URLs through which the API can be accessed.\n",
        "Apix Drive\n",
        "\n",
        "HTTP Methods: The operations that can be performed on each endpoint, such as GET, POST, PUT, and DELETE.\n",
        "\n",
        "Request and Response Formats: The data formats (e.g., JSON, XML) used for sending and receiving data.\n",
        "\n",
        "Parameters: Details about query parameters, path variables, and request bodies.\n",
        "\n",
        "Authentication: The security mechanisms required to access the API, such as API keys, OAuth, or JWT."
      ],
      "metadata": {
        "id": "EXpUx2ahqNcm"
      }
    },
    {
      "cell_type": "markdown",
      "source": [
        "3    What is Flask, and why is it popular for building APIs?\n",
        "\n",
        "\n",
        "Ans   Flask is classified as a micro-framework because it provides the essential tools needed to build web applications without imposing a specific structure or dependencies.\n",
        "\n",
        "Flask's popularity for building APIs stems from several key advantages:\n",
        "\n",
        "Simplicity and Minimalism: Flask's straightforward design allows developers to quickly set up and start building applications without unnecessary complexity .\n",
        "ColabCodes\n",
        "\n",
        "Flexibility and Modularity: Flask does not enforce a specific project structure, enabling developers to organize their applications as they see fit. Its modular nature allows for easy integration of extensions to add functionalities like database support, authentication, and form handling .\n",
        "\n",
        "Extensive Ecosystem: Despite its minimal core, Flask boasts a rich ecosystem of extensions that can be seamlessly integrated to enhance application capabilities .\n",
        "\n",
        "Ideal for Prototyping and Microservices: Flask's lightweight nature makes it well-suited for developing prototypes, microservices, and small to medium-sized applications .\n",
        "\n",
        "Active Community and Documentation: Flask benefits from a vibrant community and comprehensive documentation, providing developers with resources and support to effectively utilize the framework ."
      ],
      "metadata": {
        "id": "a0mTlJijqNZj"
      }
    },
    {
      "cell_type": "markdown",
      "source": [
        "4  What is routing in Flask?\n",
        "\n",
        "\n",
        "Ans  In Flask, routing is the mechanism that maps incoming web requests (URLs) to specific Python functions, known as view functions. This process determines how your application responds to different URLs, enabling dynamic and interactive web applications."
      ],
      "metadata": {
        "id": "LgycM9OAqNW_"
      }
    },
    {
      "cell_type": "markdown",
      "source": [
        "5   How do you create a simple Flask application?\n",
        "\n",
        "\n",
        "Ans  Create a Project Directory\n",
        "Set Up a Virtual Environment\n",
        "Install Flask"
      ],
      "metadata": {
        "id": "DTck_BTWqNUe"
      }
    },
    {
      "cell_type": "markdown",
      "source": [
        "6   What are HTTP methods used in RESTful APIs?\n",
        "\n",
        "\n",
        "Ans   In RESTful APIs, HTTP methods (also known as HTTP verbs) define the actions that can be performed on resources. These methods align with the CRUD operations—Create, Read, Update, and Delete—and are integral to RESTful design principles"
      ],
      "metadata": {
        "id": "JcVSq5-NqNRz"
      }
    },
    {
      "cell_type": "markdown",
      "source": [
        "7   What is the purpose of the @app.route() decorator in Flask?\n",
        "\n",
        "\n",
        "Ans  Purpose of @app.route() Decorator\n",
        "URL Binding: Associates a URL pattern with a view function, allowing Flask to route incoming requests to the appropriate function.\n",
        "\n",
        "HTTP Method Specification: Defines which HTTP methods (GET, POST, etc.) the view function should respond to.\n",
        "\n",
        "Dynamic URL Handling: Supports dynamic URL segments, enabling the creation of RESTful APIs and dynamic content generation."
      ],
      "metadata": {
        "id": "ouu5xQftqNPM"
      }
    },
    {
      "cell_type": "markdown",
      "source": [
        "8    What is the difference between GET and POST HTTP methods?\n",
        "\n",
        "\n",
        "Ans    GET Method\n",
        "Purpose: Retrieve data from the server without causing any side effects.\n",
        "\n",
        "Data Transmission: Appends data to the URL as query parameters\n",
        "\n",
        "Visibility: Data is visible in the browser's address bar, history, and server logs.\n",
        "\n",
        "Security: Less secure; avoid using for sensitive information like passwords.\n",
        "\n",
        "\n",
        "\n",
        "POST Method\n",
        "Purpose: Send data to the server to create or update resources.\n",
        "\n",
        "Data Transmission: Sends data in the body of the request, not visible in the URL.\n",
        "\n",
        "Visibility: Data is not exposed in the browser's address bar, history, or server logs.\n",
        "\n",
        "Security: More secure for transmitting sensitive information, though not inherently encrypted"
      ],
      "metadata": {
        "id": "GweH8zF-qNMj"
      }
    },
    {
      "cell_type": "markdown",
      "source": [
        "9  How do you handle errors in Flask APIs?\n",
        "\n",
        "\n",
        "Ans  Handling errors effectively in Flask APIs is crucial for maintaining robustness and providing clear feedback to clients\n",
        "1. Handling Specific HTTP Errors\n",
        "Flask allows you to define custom error handlers for specific HTTP status codes using the @app.errorhandler decorator\n",
        " 2. Using abort() to Trigger Errors\n",
        "The abort() function can be used to manually trigger HTTP errors when certain conditions are met:\n",
        " 3. Creating Custom Exception Classes\n",
        " 4. Implementing Global Error Handlers"
      ],
      "metadata": {
        "id": "5vg_oXdaqNJs"
      }
    },
    {
      "cell_type": "markdown",
      "source": [
        "10   How do you connect Flask to a SQL database?\n",
        "\n",
        "Ans   To connect a Flask application to a SQL database, you can utilize the Flask-SQLAlchemy extension, which simplifies integrating SQLAlchemy with Flask. SQLAlchemy is a powerful ORM (Object Relational Mapper) that allows you to interact with databases using Python classes and objects"
      ],
      "metadata": {
        "id": "jA_2dAbWqNHO"
      }
    },
    {
      "cell_type": "markdown",
      "source": [
        "11    What is the role of Flask-SQLAlchemy?\n",
        "\n",
        "\n",
        "Ans  Roles are:\n",
        "\n",
        "Simplified Configuration\n",
        "Flask-SQLAlchemy streamlines the process of setting up SQLAlchemy within a Flask application. It automatically manages the creation and cleanup of SQLAlchemy objects, such as the engine and session, reducing boilerplate code and potential configuration errors.\n",
        "\n",
        "Declarative Model Definition\n",
        "The extension allows developers to define database models as Python classes using SQLAlchemy's declarative base system. This approach promotes a clean and organized structure for database schemas, making the code more maintainable and readable.\n",
        "\n",
        "Session Management\n",
        "Flask-SQLAlchemy integrates with Flask's application context to manage database sessions. It ensures that each request has its own session, which is properly committed or rolled back, thereby maintaining data integrity and preventing session-related issues.\n",
        "\n",
        "Simplified Querying\n",
        "The extension extends SQLAlchemy's query interface to work seamlessly within Flask. This allows developers to perform database operations using familiar Flask patterns, making database interactions more intuitive.\n",
        "\n",
        "Automatic Table Creation\n",
        "Flask-SQLAlchemy can automatically generate database tables based on the defined models when the application starts. This feature simplifies the initial setup and reduces the need for manual table creation.\n",
        "\n",
        "Integration with Flask's App Context\n",
        "By leveraging Flask's app context, Flask-SQLAlchemy ensures that database sessions are properly managed across requests. This integration simplifies transaction management and ensures that database operations are handled correctly in a web environment."
      ],
      "metadata": {
        "id": "HSF9FJMMqNEc"
      }
    },
    {
      "cell_type": "markdown",
      "source": [
        "12  What are Flask blueprints, and how are they useful?\n",
        "\n",
        "Ans  A Flask Blueprint is essentially a collection of routes and handlers that can be registered on a Flask application. Unlike an application object, a Blueprint does not run by itself; instead, it is registered with an application to add its functionality.\n",
        "\n",
        "Benefits of Using Flask Blueprints\n",
        "Modularity\n",
        "Simplified Collaboration\n",
        "Code Reusability\n",
        "Flexible Routing\n",
        "Separation of Concerns"
      ],
      "metadata": {
        "id": "1x10T8T4qNBk"
      }
    },
    {
      "cell_type": "markdown",
      "source": [
        "13  What is the purpose of Flask's request object?\n",
        "\n",
        "Ans  The primary purpose of the request object is to encapsulate all the information sent by the client to the server, allowing your Flask application to process and respond appropriately. It serves as a context-local object, meaning it is specific to the current thread or worker handling the request, ensuring thread safety in multi-threaded environments"
      ],
      "metadata": {
        "id": "peOsXMdLqM_M"
      }
    },
    {
      "cell_type": "markdown",
      "source": [
        "14  How do you create a RESTful API endpoint using Flask?\n",
        "\n",
        "Ans  Creating a RESTful API with Flask is straightforward and efficient. Here's a step-by-step guide to building a simple API that supports CRUD (Create, Read, Update, Delete) operations using Flask and Flask-RESTful.\n",
        "Step 1: Set Up Your Environment\n",
        "Step 2: Define the Flask Application\n",
        "Step 3: Run the Application\n",
        " Step 4: Test the API Endpoints"
      ],
      "metadata": {
        "id": "_YQegiN7qM8M"
      }
    },
    {
      "cell_type": "markdown",
      "source": [
        "15   What is the purpose of Flask's jsonify() function?\n",
        "\n",
        "Ans  The primary purposes of jsonify() are:\n",
        "\n",
        "Automatic JSON Serialization: Converts Python data structures (like dictionaries or lists) into JSON format.\n",
        "\n",
        "\n",
        "Correct Content-Type Header: Sets the Content-Type header of the response to application/json, informing the client that the response body contains JSON data.\n",
        "\n",
        "\n",
        "Response Object Creation: Returns a Flask Response object, which is a complete HTTP response that includes the JSON data, headers, and status code"
      ],
      "metadata": {
        "id": "_26Q1jKKqM4M"
      }
    },
    {
      "cell_type": "markdown",
      "source": [
        "16   Explain Flask’s url_for() function?\n",
        "\n",
        "Ans  Flask's url_for() function is a powerful utility that dynamically generates URLs for your application’s routes. Instead of hardcoding URLs, url_for() allows you to reference routes by their function names, making your code more maintainable and adaptable to changes."
      ],
      "metadata": {
        "id": "Wvy9PnjjqMu1"
      }
    },
    {
      "cell_type": "markdown",
      "source": [
        "17   How does Flask handle static files (CSS, JavaScript, etc.)?\n",
        "\n",
        "Ans Default Static Folder\n",
        "By default, Flask expects a folder named static in the same directory as your main application file. Any files placed within this folder are automatically accessible via the /static/ URL path.\n",
        " Referencing Static Files in Templates\n",
        "To link static files in your HTML templates, Flask provides the url_for() function. This function dynamically generates the correct URL for static files, ensuring that links remain valid even if the application is deployed in different environments."
      ],
      "metadata": {
        "id": "bvHeu5bNwupb"
      }
    },
    {
      "cell_type": "markdown",
      "source": [
        "18   What is an API specification, and how does it help in building a Flask API?\n",
        "\n",
        "AnsAn API specification is a formal document that defines the structure, behavior, and interactions of an API. It serves as a blueprint for both developers and consumers, detailing how the API should function and how clients can interact with it.\n",
        "\n",
        "Integrating an API specification into your Flask application offers several benefits:\n",
        "\n",
        "Automated Documentation: Tools like Flasgger and apispec can generate interactive Swagger UI documentation directly from your Flask routes and docstrings. This allows developers and consumers to explore and test the API without needing access to the source code"
      ],
      "metadata": {
        "id": "MNCkEvcEwuhE"
      }
    },
    {
      "cell_type": "markdown",
      "source": [
        "19   What are HTTP status codes, and why are they important in a Flask API?\n",
        "\n",
        "Ans  HTTP status codes are standardized three-digit numbers returned by a server in response to a client's request. They indicate the outcome of the request and help clients understand how to proceed. These codes are essential in RESTful APIs, including those built with Flask, as they provide immediate feedback on the success or failure of an API cal"
      ],
      "metadata": {
        "id": "Y8PeKKsYwuZq"
      }
    },
    {
      "cell_type": "markdown",
      "source": [
        "20  How do you handle POST requests in Flask?\n",
        "\n",
        "Ans   Handling POST requests in Flask is essential for processing data submitted by clients, such as form submissions, JSON payloads, or file uploads. Here's a comprehensive guide on how to manage POST requests in Flask:\n",
        "1. Handling Form Data\n",
        " 2. Handling JSON Data\n",
        " 3. Handling File Uploads\n",
        " 4. Validating POST Data\n",
        " 5. Error Handling\n",
        " 6. Testing POST Requests"
      ],
      "metadata": {
        "id": "73IIedeFwuRC"
      }
    },
    {
      "cell_type": "markdown",
      "source": [
        "21  How would you secure a Flask API?\n",
        "\n",
        "\n",
        "Ans   Securing a Flask API is essential to protect sensitive data, ensure user privacy, and prevent unauthorized access. Here's a comprehensive guide to implementing robust security measures in your Flask application:\n",
        "1. Use HTTPS\n",
        " 2. Secure Authentication and Authorization\n",
        " 3. Protect Against CSRF\n",
        " 4. Input Validation and Sanitization\n",
        " 5. Secure Session Management\n"
      ],
      "metadata": {
        "id": "xAAARCkMwuIy"
      }
    },
    {
      "cell_type": "markdown",
      "source": [
        "22  What is the significance of the Flask-RESTful extension?\n",
        "\n",
        "\n",
        "Ans  Resource-Oriented Design: Flask-RESTful encourages a resource-based architecture, where each API endpoint is represented as a class inheriting from Resource. This approach aligns with REST principles and enhances code organization\n",
        "Simplified Routing: By using the add_resource method, developers can easily associate resources with specific URL endpoints, streamlining the routing process.\n",
        "\n",
        "Automatic Request Parsing: The extension provides built-in support for parsing incoming request data, including JSON, form data, and query parameters, reducing boilerplate code.\n",
        "\n",
        "Response Formatting: Flask-RESTful allows for consistent and customizable response formatting, ensuring that API responses adhere to a desired structure"
      ],
      "metadata": {
        "id": "PLregL0awt-r"
      }
    },
    {
      "cell_type": "markdown",
      "source": [
        "23  What is the role of Flask’s session object?\n",
        "\n",
        "\n",
        "Ans   The session object in Flask acts like a dictionary, allowing you to store and retrieve data that is specific to a user's session. This data is stored on the client side, typically in a secure cookie, and is signed cryptographically to prevent tampering. Flask uses the secret_key you set in your application to sign the session data"
      ],
      "metadata": {
        "id": "vAc5X9k1wtxS"
      }
    },
    {
      "cell_type": "code",
      "source": [
        "#   How do you create a basic Flask application?\n",
        "\n",
        "\n",
        "from flask import Flask\n",
        "\n",
        "app = Flask(__name__)\n",
        "\n",
        "@app.route('/')\n",
        "def hello():\n",
        "    return 'Hello, World!'\n",
        "\n",
        "if __name__ == '__main__':\n",
        "    app.run(debug=True)\n",
        "\n",
        "\n"
      ],
      "metadata": {
        "id": "8FBw8D06ENCT"
      },
      "execution_count": null,
      "outputs": []
    },
    {
      "cell_type": "code",
      "source": [
        "#  How do you serve static files like images or CSS in Flask?\n",
        "\n",
        "\n",
        "from flask import Flask, render_template\n",
        "\n",
        "app = Flask(__name__)\n",
        "\n",
        "@app.route('/')\n",
        "def index():\n",
        "    return render_template('index.html')\n",
        "\n",
        "if __name__ == '__main__':\n",
        "    app.run(debug=True)\n",
        "\n"
      ],
      "metadata": {
        "id": "FtKMEqKKEQ-y"
      },
      "execution_count": null,
      "outputs": []
    },
    {
      "cell_type": "code",
      "source": [
        "#  How do you define different routes with different HTTP methods in Flask?\n",
        "\n",
        "\n",
        "\n",
        "\n",
        "\n",
        "\n",
        "from flask import Flask, request\n",
        "\n",
        "app = Flask(__name__)\n",
        "\n",
        "@app.route('/user', methods=['GET', 'POST'])\n",
        "def user():\n",
        "    if request.method == 'POST':\n",
        "        return 'Creating a new user'\n",
        "    else:\n",
        "        return 'Fetching user details'\n",
        "\n",
        "@app.route('/user/<int:id>', methods=['PUT', 'DELETE'])\n",
        "def manage_user(id):\n",
        "    if request.method == 'PUT':\n",
        "        return f'Updating user with ID {id}'\n",
        "    else:\n",
        "        return f'Deleting user with ID {id}'\n",
        "\n",
        "if __name__ == '__main__':\n",
        "    app.run(debug=True)\n",
        "\n",
        "\n",
        "\n"
      ],
      "metadata": {
        "colab": {
          "base_uri": "https://localhost:8080/",
          "height": 106
        },
        "id": "UCMVCZpiEQkE",
        "outputId": "df8f2002-6692-4b9f-e989-66c83dc02f35"
      },
      "execution_count": 7,
      "outputs": [
        {
          "output_type": "error",
          "ename": "SyntaxError",
          "evalue": "invalid syntax (<ipython-input-7-8b20e05533d2>, line 29)",
          "traceback": [
            "\u001b[0;36m  File \u001b[0;32m\"<ipython-input-7-8b20e05533d2>\"\u001b[0;36m, line \u001b[0;32m29\u001b[0m\n\u001b[0;31m    <!DOCTYPE html>\u001b[0m\n\u001b[0m    ^\u001b[0m\n\u001b[0;31mSyntaxError\u001b[0m\u001b[0;31m:\u001b[0m invalid syntax\n"
          ]
        }
      ]
    },
    {
      "cell_type": "code",
      "source": [
        "# How do you render HTML templates in Flask?\n",
        "\n",
        "from flask import Flask, render_template\n",
        "\n",
        "app = Flask(__name__)\n",
        "\n",
        "@app.route('/')\n",
        "def index():\n",
        "    return render_template('index.html')\n",
        "\n",
        "if __name__ == '__main__':\n",
        "    app.run(debug=True)\n",
        "\n"
      ],
      "metadata": {
        "id": "PlKzAuohEdqJ"
      },
      "execution_count": null,
      "outputs": []
    },
    {
      "cell_type": "code",
      "source": [
        "#  How can you generate URLs for routes in Flask using url_for?\n",
        "\n",
        "from flask import Flask, url_for\n",
        "\n",
        "app = Flask(__name__)\n",
        "\n",
        "@app.route('/')\n",
        "def index():\n",
        "    return 'Home Page'\n",
        "\n",
        "@app.route('/user/<username>')\n",
        "def profile(username):\n",
        "    return f'Profile of {username}'\n",
        "\n",
        "if __name__ == '__main__':\n",
        "    with app.test_request_context():\n",
        "        print(url_for('index'))  # Output: '/'\n",
        "        print(url_for('profile', username='john_doe'))  # Output: '/user/john_doe'\n",
        "    app.run(debug=True)\n"
      ],
      "metadata": {
        "id": "_jRe18ZBEf1C"
      },
      "execution_count": null,
      "outputs": []
    },
    {
      "cell_type": "code",
      "source": [
        "#  How do you handle forms in Flask?\n",
        "from flask import render_template, redirect, url_for, flash\n",
        "\n",
        "@app.route('/', methods=['GET', 'POST'])\n",
        "def index():\n",
        "    form = NameForm()\n",
        "    if form.validate_on_submit():\n",
        "        flash(f'Hello, {form.name.data}!', 'success')\n",
        "        return redirect(url_for('index'))\n",
        "    return render_template('index.html', form=form)\n",
        "\n"
      ],
      "metadata": {
        "id": "j1Gu-A0cEkKL"
      },
      "execution_count": null,
      "outputs": []
    },
    {
      "cell_type": "code",
      "source": [
        "#   How can you validate form data in Flask?\n",
        "\n",
        "\n",
        "from flask import render_template, redirect, url_for\n",
        "from app import app\n",
        "from forms import MyForm\n",
        "\n",
        "@app.route('/', methods=['GET', 'POST'])\n",
        "def index():\n",
        "    form = MyForm()\n",
        "    if form.validate_on_submit():\n",
        "        # Process the form data\n",
        "        return redirect(url_for('success'))\n",
        "    return render_template('index.html', form=form)\n"
      ],
      "metadata": {
        "id": "Kl5IOgNiEm4x"
      },
      "execution_count": null,
      "outputs": []
    },
    {
      "cell_type": "code",
      "source": [
        "#  How do you manage sessions in Flask?\n",
        "\n",
        "\n",
        "from flask import Flask, session\n",
        "\n",
        "app = Flask(__name__)\n",
        "app.secret_key = 'your-secret-key'  # Use a strong, random key\n",
        "\n",
        "@app.route('/')\n",
        "def index():\n",
        "    session['username'] = 'john_doe'\n",
        "    return 'Session data set'\n",
        "\n",
        "if __name__ == '__main__':\n",
        "    app.run(debug=True)\n"
      ],
      "metadata": {
        "id": "yXWy0wHwz2cB"
      },
      "execution_count": null,
      "outputs": []
    },
    {
      "cell_type": "code",
      "source": [
        "#  How do you redirect to a different route in Flask?\n",
        "\n",
        "from flask import Flask, redirect, url_for\n",
        "\n",
        "app = Flask(__name__)\n",
        "\n",
        "@app.route('/')\n",
        "def home():\n",
        "    return redirect(url_for('hello_world'), code=301)\n",
        "\n",
        "@app.route('/hello')\n",
        "def hello_world():\n",
        "    return 'Hello, World!'\n",
        "\n",
        "if __name__ == '__main__':\n",
        "    app.run(debug=True)\n",
        "\n"
      ],
      "metadata": {
        "id": "x5LdufdYz2UR"
      },
      "execution_count": null,
      "outputs": []
    },
    {
      "cell_type": "code",
      "source": [
        "#   How do you handle errors in Flask (e.g., 404)?\n",
        "from flask import Flask, render_template, abort\n",
        "\n",
        "app = Flask(__name__)\n",
        "\n",
        "@app.route('/messages/<int:idx>')\n",
        "def message(idx):\n",
        "    messages = ['Message Zero', 'Message One', 'Message Two']\n",
        "    try:\n",
        "        return render_template('message.html', message=messages[idx])\n",
        "    except IndexError:\n",
        "        abort(404)\n",
        "\n",
        "@app.errorhandler(404)\n",
        "def not_found(error):\n",
        "    return render_template('404.html'), 404\n"
      ],
      "metadata": {
        "id": "I_ms_QKaz2L6"
      },
      "execution_count": null,
      "outputs": []
    },
    {
      "cell_type": "code",
      "source": [
        "#  How do you structure a Flask app using Blueprints?\n",
        "from flask import Flask\n",
        "from app.core import core_bp\n",
        "from app.auth import auth_bp\n",
        "from app.admin import admin_bp\n",
        "\n",
        "def create_app():\n",
        "    app = Flask(__name__)\n",
        "    app.config.from_object('config')\n",
        "\n",
        "    app.register_blueprint(core_bp, url_prefix='/')\n",
        "    app.register_blueprint(auth_bp, url_prefix='/auth')\n",
        "    app.register_blueprint(admin_bp, url_prefix='/admin')\n",
        "\n",
        "    return app\n",
        "\n",
        "app = create_app()\n",
        "\n",
        "if __name__ == '__main__':\n",
        "    app.run(debug=True)\n"
      ],
      "metadata": {
        "id": "y2IcI9kjz2Ep"
      },
      "execution_count": null,
      "outputs": []
    },
    {
      "cell_type": "code",
      "source": [
        "#  How do you define a custom Jinja filter in Flask?\n",
        "\n",
        "from flask import Flask\n",
        "\n",
        "app = Flask(__name__)\n",
        "\n",
        "@app.template_filter('reverse')\n",
        "def reverse_filter(s):\n",
        "    \"\"\"Reverses the input string.\"\"\"\n",
        "    return s[::-1]\n",
        "\n"
      ],
      "metadata": {
        "id": "r1hC63vwz17x"
      },
      "execution_count": null,
      "outputs": []
    },
    {
      "cell_type": "code",
      "source": [
        "#   How can you redirect with query parameters in Flask?\n",
        "from flask import Flask, redirect, url_for\n",
        "\n",
        "app = Flask(__name__)\n",
        "\n",
        "@app.route('/')\n",
        "def index():\n",
        "    return redirect(url_for('target_route', param1='value1', param2='value2'))\n",
        "\n",
        "@app.route('/target')\n",
        "def target_route():\n",
        "    return 'Redirected with query parameters!'\n"
      ],
      "metadata": {
        "id": "7BLiC0UZz1zT"
      },
      "execution_count": null,
      "outputs": []
    },
    {
      "cell_type": "code",
      "source": [
        "#  How do you return JSON responses in Flask?\n",
        "from flask import Flask, jsonify\n",
        "\n",
        "app = Flask(__name__)\n",
        "\n",
        "@app.route('/api/data')\n",
        "def get_data():\n",
        "    data = {'message': 'Hello, World!'}\n",
        "    return jsonify(data)\n"
      ],
      "metadata": {
        "id": "gGH5ZC3gz1rz"
      },
      "execution_count": null,
      "outputs": []
    },
    {
      "cell_type": "code",
      "source": [
        "#  How do you capture URL parameters in Flask?\n",
        "from flask import Flask, request\n",
        "\n",
        "app = Flask(__name__)\n",
        "\n",
        "@app.route('/search')\n",
        "def search():\n",
        "    query = request.args.get('q')\n",
        "    page = request.args.get('page', default=1, type=int)\n",
        "    return f'Searching for \"{query}\" on page {page}'\n"
      ],
      "metadata": {
        "id": "AAtSjGHk1BQR"
      },
      "execution_count": null,
      "outputs": []
    }
  ]
}