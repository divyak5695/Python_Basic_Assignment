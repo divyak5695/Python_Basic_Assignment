{
  "nbformat": 4,
  "nbformat_minor": 0,
  "metadata": {
    "colab": {
      "provenance": []
    },
    "kernelspec": {
      "name": "python3",
      "display_name": "Python 3"
    },
    "language_info": {
      "name": "python"
    }
  },
  "cells": [
    {
      "cell_type": "markdown",
      "source": [
        "1   What are data structures, and why are they important?\n",
        "\n",
        "Ans- Data structures are a way of organizing and storing data so that they can be accessed and worked with efficiently. They define the relationship between the data, and the operations that can be performed on the data.\n",
        "\n",
        "Data structure is important:\n",
        " Efficient Data Organization and Management\n",
        " Enhancing Program Performance\n",
        " Real-World Applications"
      ],
      "metadata": {
        "id": "GaHurR62YfQd"
      }
    },
    {
      "cell_type": "markdown",
      "source": [
        "2 Explain the difference between mutable and immutable data types with examples?\n",
        "\n",
        "\n",
        "Ans- 2. Mutable Data Types – These are data types whose values can be modified after they are created. Examples: List, Dictionary, Set\n",
        "Immutable Data Types – These are data types whose values cannot be altered once they are set. Examples: String, Tuple"
      ],
      "metadata": {
        "id": "UUIX-v-VYi8F"
      }
    },
    {
      "cell_type": "markdown",
      "source": [
        "3  What are the main differences between lists and tuples in Python?\n",
        "\n",
        "Ans-  The main difference between lists and tuples in Python is that lists are mutable (can be changed after creation) while tuples are immutable (cannot be changed after creation)"
      ],
      "metadata": {
        "id": "iD5C-pX-Yi5s"
      }
    },
    {
      "cell_type": "markdown",
      "source": [
        "4  Describe how dictionaries store data?\n",
        "\n",
        "Ans-  Dictionaries store data as unordered collections of key-value pairs, where each key is unique and used to access its associated value."
      ],
      "metadata": {
        "id": "Qz5qOkkoYi1y"
      }
    },
    {
      "cell_type": "markdown",
      "source": [
        "5   Why might you use a set instead of a list in Python?\n",
        "\n",
        "Ans-  Because sets cannot have multiple occurrences of the same element, it makes sets highly useful to efficiently remove duplicate values from a list or tuple and to perform common math operations like unions and intersections."
      ],
      "metadata": {
        "id": "k9RCRqg8Yiyi"
      }
    },
    {
      "cell_type": "markdown",
      "source": [
        "6  What is a string in Python, and how is it different from a list?\n",
        "\n",
        "Ans- A string is a sequence of characters between single or double quotes. A list is a sequence of items, where each item could be anything (an integer, a float, a string, etc)."
      ],
      "metadata": {
        "id": "yuIN_-MLYivi"
      }
    },
    {
      "cell_type": "markdown",
      "source": [
        "7 How do tuples ensure data integrity in Python?\n",
        "\n",
        "Ans- Tuples are immutable to ensure that their contents remain constant throughout their lifecycle, guaranteeing data integrity and reliability. This immutability allows tuples to be used as keys in dictionaries and elements in sets, as they can be hashed."
      ],
      "metadata": {
        "id": "aZGEu9JOYisq"
      }
    },
    {
      "cell_type": "markdown",
      "source": [
        "8 What is a hash table, and how does it relate to dictionaries in Python?\n",
        "\n",
        "Ans- A hash table is a data structure that uses a hash function to map keys to values, and Python dictionaries are built upon this concept, allowing for efficient key-value pair storage and retrieval."
      ],
      "metadata": {
        "id": "VC3rPO_OYip6"
      }
    },
    {
      "cell_type": "markdown",
      "source": [
        "9 Can lists contain different data types in Python\n",
        "\n",
        "Ans- Although it's not really common, a list can also contain a mix of Python types including strings, floats, and booleans.\n"
      ],
      "metadata": {
        "id": "hViIK7ZGYimy"
      }
    },
    {
      "cell_type": "markdown",
      "source": [
        "10 Explain why strings are immutable in Python?\n",
        "\n",
        "Ans- Python strings are \"immutable\" which means they cannot be changed after they are created (Java strings also use this immutable style). Since strings can't be changed, we construct new strings as we go to represent computed values.\n"
      ],
      "metadata": {
        "id": "MTd_owQgYijk"
      }
    },
    {
      "cell_type": "markdown",
      "source": [
        "11 What advantages do dictionaries offer over lists for certain tasks?\n",
        "\n",
        "Ans- Dictionaries excel over lists for tasks involving quick data retrieval and mapping relationships, due to their ability to access values by keys rather than indices, offering faster lookup times"
      ],
      "metadata": {
        "id": "Wi-mVWNAYigC"
      }
    },
    {
      "cell_type": "markdown",
      "source": [
        "12 Describe a scenario where using a tuple would be preferable over a list?\n",
        "\n",
        "Ans- Use a list if you need a mutable collection of items where you may need to add, remove, or change elements. Lists are more flexible and have more built-in methods, making them ideal for dynamic collections. Use a tuple if you need an immutable collection where the elements won't change after creation."
      ],
      "metadata": {
        "id": "-IYiKaz2Yicy"
      }
    },
    {
      "cell_type": "markdown",
      "source": [
        "13 How do sets handle duplicate values in Python?\n",
        "\n",
        "Ans- Here are some of the features of sets in Python: Duplicate items are not allowed. If items appear multiple times, only one will be recognized in the set. The items in a set are unordered."
      ],
      "metadata": {
        "id": "eSHFrM2tYiZS"
      }
    },
    {
      "cell_type": "markdown",
      "source": [
        "14 How does the “in” keyword work differently for lists and dictionaries?\n",
        "\n",
        "Ans- 14. Take the following dictionary as an example.\n",
        "\n",
        "d = dict(zip(l_large, l_large))\n",
        "print(len(d))\n",
        "# 10000\n",
        "\n",
        "print(d[0])\n",
        "# 0\n",
        "\n",
        "print(d[9999])\n",
        "# 9999\n",
        "\n",
        "As mentioned above, the in operation for the dictionary tests on keys.\n",
        "\n",
        "The key of the dictionary is a unique value as well as the set, and the execution time is about the same as for sets."
      ],
      "metadata": {
        "id": "Ay7kQPsaYiWG"
      }
    },
    {
      "cell_type": "markdown",
      "source": [
        "15 Can you modify the elements of a tuple? Explain why or why not.\n",
        "\n",
        "Ans- No, you cannot directly modify the elements of a tuple in Python because tuples are immutable, meaning their contents cannot be changed after creation"
      ],
      "metadata": {
        "id": "OwICd0UsYiS7"
      }
    },
    {
      "cell_type": "markdown",
      "source": [
        "16 What is a nested dictionary, and give an example of its use case?\n",
        "\n",
        "Ans- A nested dictionary in Python is a dictionary where the values are themselves dictionaries, allowing for hierarchical or layered data storage. A use case is representing employee records organized by department, with each employee's details stored in a nested dictionary."
      ],
      "metadata": {
        "id": "ESm6N-koYiPv"
      }
    },
    {
      "cell_type": "markdown",
      "source": [
        "17 Describe the time complexity of accessing elements in a dictionary.\n",
        "\n",
        "Ans- Accessing elements in a dictionary (or hash map) typically has an average time complexity of O(1), meaning it takes constant time regardless of the dictionary's size. However, in the worst-case scenario (e.g., many collisions), it can degrade to O(n)."
      ],
      "metadata": {
        "id": "jnyfauUbYiMi"
      }
    },
    {
      "cell_type": "markdown",
      "source": [
        "18 In what situations are lists preferred over dictionaries?\n",
        "\n",
        "Ans- Dictionaries are ideal for tasks requiring quick lookups, data mappings, and key-value associations. Lists are suitable for ordered collections, sequential processing, and scenarios where the order of elements matters"
      ],
      "metadata": {
        "id": "Q2qjTMKKYiJi"
      }
    },
    {
      "cell_type": "markdown",
      "source": [
        "19 Why are dictionaries considered unordered, and how does that affect data retrieval?\n",
        "\n",
        "Ans- Dictionaries are considered unordered because they store data as key-value pairs, and the order in which these pairs are inserted doesn't affect how they are stored or retrieved; accessing data relies on keys, not position."
      ],
      "metadata": {
        "id": "lTzVx9TeYiGi"
      }
    },
    {
      "cell_type": "markdown",
      "source": [
        "20  Explain the difference between a list and a dictionary in terms of data retrieval.\n",
        "\n",
        "Ans- In terms of data retrieval, lists use numerical indices (starting from 0) for accessing elements, while dictionaries use keys to access associated values, offering significantly faster lookups than lists."
      ],
      "metadata": {
        "id": "evgrffk7YiDS"
      }
    },
    {
      "cell_type": "code",
      "source": [
        "#1 Write a code to create a string with your name and print it?\n",
        "\n",
        "name = \"Divya\"\n",
        "print(name)"
      ],
      "metadata": {
        "colab": {
          "base_uri": "https://localhost:8080/"
        },
        "id": "GNgqU-J_bbsL",
        "outputId": "e0bb2032-5b77-4a2f-b236-8f7d284d6db4"
      },
      "execution_count": 1,
      "outputs": [
        {
          "output_type": "stream",
          "name": "stdout",
          "text": [
            "Divya\n"
          ]
        }
      ]
    },
    {
      "cell_type": "code",
      "source": [
        "#2  Write a code to find the length of the string \"Hello World\"\n",
        "\n",
        "a = \"Hello, World\"\n",
        "print(len(a))"
      ],
      "metadata": {
        "colab": {
          "base_uri": "https://localhost:8080/"
        },
        "id": "LG7ElFh3be-U",
        "outputId": "3828a463-c76b-4530-8909-dd07fe89c9db"
      },
      "execution_count": 2,
      "outputs": [
        {
          "output_type": "stream",
          "name": "stdout",
          "text": [
            "13\n"
          ]
        }
      ]
    },
    {
      "cell_type": "code",
      "source": [
        "#3  Write a code to slice the first 3 characters from the string \"Python Programming\"\n",
        "\n",
        "b = \"Python Programming\"\n",
        "print(b[0:3])"
      ],
      "metadata": {
        "colab": {
          "base_uri": "https://localhost:8080/"
        },
        "id": "y6HLVa1AcBur",
        "outputId": "9599e951-702b-4d61-b4fc-9f8d1c7f0242"
      },
      "execution_count": 3,
      "outputs": [
        {
          "output_type": "stream",
          "name": "stdout",
          "text": [
            "Pyt\n"
          ]
        }
      ]
    },
    {
      "cell_type": "code",
      "source": [
        "#4  Write a code to convert the string \"hello\" to uppercase?\n",
        "\n",
        "a = \"hello\"\n",
        "print(a.upper())\n"
      ],
      "metadata": {
        "colab": {
          "base_uri": "https://localhost:8080/"
        },
        "id": "xmdTrWMzcZaJ",
        "outputId": "a6a1189c-632c-4206-d3f0-ee421c5fbee4"
      },
      "execution_count": 4,
      "outputs": [
        {
          "output_type": "stream",
          "name": "stdout",
          "text": [
            "HELLO\n"
          ]
        }
      ]
    },
    {
      "cell_type": "code",
      "source": [
        "#5  Write a code to replace the word \"apple\" with \"orange\" in the string \"I like apple\"?\n",
        "\n",
        "a=\"I like apple\"\n",
        "b=a.replace(\"apple\", \"orange\")\n",
        "print(b)"
      ],
      "metadata": {
        "colab": {
          "base_uri": "https://localhost:8080/"
        },
        "id": "HiPaQPF_cwYY",
        "outputId": "131cc5eb-af05-47a7-e4e4-2625397555fc"
      },
      "execution_count": 6,
      "outputs": [
        {
          "output_type": "stream",
          "name": "stdout",
          "text": [
            "I like orange\n"
          ]
        }
      ]
    },
    {
      "cell_type": "code",
      "source": [
        "#6  Write a code to create a list with numbers 1 to 5 and print it?\n",
        "\n",
        "numbers = list(range(1,6))\n",
        "print(numbers)"
      ],
      "metadata": {
        "colab": {
          "base_uri": "https://localhost:8080/"
        },
        "id": "lJBvVk-1dR5N",
        "outputId": "4698a75e-d969-42ea-91d0-69add5d96440"
      },
      "execution_count": 8,
      "outputs": [
        {
          "output_type": "stream",
          "name": "stdout",
          "text": [
            "[1, 2, 3, 4, 5]\n"
          ]
        }
      ]
    },
    {
      "cell_type": "code",
      "source": [
        "#7  Write a code to append the number 10 to the list [1, 2, 3, 4] ?\n",
        "\n",
        "number=[1,2,3,4]\n",
        "number.append(10)\n",
        "print(number)"
      ],
      "metadata": {
        "colab": {
          "base_uri": "https://localhost:8080/"
        },
        "id": "_qSnZ0vzdtvZ",
        "outputId": "b211577f-a671-4d8e-9914-ea8e6f023d22"
      },
      "execution_count": 9,
      "outputs": [
        {
          "output_type": "stream",
          "name": "stdout",
          "text": [
            "[1, 2, 3, 4, 10]\n"
          ]
        }
      ]
    },
    {
      "cell_type": "code",
      "source": [
        "#8  Write a code to remove the number 3 from the list [1, 2, 3, 4, 5]?\n",
        "\n",
        "number=[1,2,3,4,5]\n",
        "number.remove(3)\n",
        "print(number)\n"
      ],
      "metadata": {
        "colab": {
          "base_uri": "https://localhost:8080/"
        },
        "id": "kRC5d4LQeLy6",
        "outputId": "faeb9b63-9dab-416a-ebe1-632e0b2292ec"
      },
      "execution_count": 11,
      "outputs": [
        {
          "output_type": "stream",
          "name": "stdout",
          "text": [
            "[1, 2, 4, 5]\n"
          ]
        }
      ]
    },
    {
      "cell_type": "code",
      "source": [
        "#9  Write a code to access the second element in the list ['a', 'b', 'c', 'd']?\n",
        "\n",
        "n=['a','b','c','d']\n",
        "print(n[2])"
      ],
      "metadata": {
        "colab": {
          "base_uri": "https://localhost:8080/"
        },
        "id": "MA71rYT5eOG6",
        "outputId": "5f9f8768-eb5a-427d-9a84-928ccd5db900"
      },
      "execution_count": 12,
      "outputs": [
        {
          "output_type": "stream",
          "name": "stdout",
          "text": [
            "c\n"
          ]
        }
      ]
    },
    {
      "cell_type": "code",
      "source": [
        "#10  Write a code to reverse the list [10, 20, 30, 40, 50]?\n",
        "\n",
        "numbers = [10, 20, 30, 40, 50]\n",
        "numbers.reverse()\n",
        "print(numbers)"
      ],
      "metadata": {
        "colab": {
          "base_uri": "https://localhost:8080/"
        },
        "id": "eGxJfQb5fF0A",
        "outputId": "740e9d0d-e0f6-4ca0-bd91-9c940e2f0072"
      },
      "execution_count": 13,
      "outputs": [
        {
          "output_type": "stream",
          "name": "stdout",
          "text": [
            "[50, 40, 30, 20, 10]\n"
          ]
        }
      ]
    },
    {
      "cell_type": "code",
      "source": [
        "#11  Write a code to create a tuple with the elements 100, 200, 300 and print it?\n",
        "\n",
        "my_tuple = (100, 200, 300)\n",
        "print(my_tuple)"
      ],
      "metadata": {
        "colab": {
          "base_uri": "https://localhost:8080/"
        },
        "id": "IYYtx6QNfWlR",
        "outputId": "7b8f0d51-b942-4081-a19e-d08b0cabaab6"
      },
      "execution_count": 15,
      "outputs": [
        {
          "output_type": "stream",
          "name": "stdout",
          "text": [
            "(100, 200, 300)\n"
          ]
        }
      ]
    },
    {
      "cell_type": "code",
      "source": [
        "#12   Write a code to access the second-to-last element of the tuple ('red', 'green', 'blue', 'yellow')?\n",
        "\n",
        "color_list = [\"red\", \"green\", \"blue\", \"yellow\"]\n",
        "print(\"%s\" % (color_list[-2]))"
      ],
      "metadata": {
        "colab": {
          "base_uri": "https://localhost:8080/"
        },
        "id": "cnlksSfrfhne",
        "outputId": "0fa5fc7f-e376-499b-8708-6dbd1c80e135"
      },
      "execution_count": 19,
      "outputs": [
        {
          "output_type": "stream",
          "name": "stdout",
          "text": [
            "blue\n"
          ]
        }
      ]
    },
    {
      "cell_type": "code",
      "source": [
        "#13  Write a code to find the minimum number in the tuple (10, 20, 5, 15)?\n",
        "\n",
        "my_tuple = (10, 20, 5, 15)\n",
        "min_value = min(my_tuple)\n",
        "print(min_value)"
      ],
      "metadata": {
        "colab": {
          "base_uri": "https://localhost:8080/"
        },
        "id": "wHd583D-gEiD",
        "outputId": "eb58c44f-9d70-4fff-e406-d1b971023c12"
      },
      "execution_count": 20,
      "outputs": [
        {
          "output_type": "stream",
          "name": "stdout",
          "text": [
            "5\n"
          ]
        }
      ]
    },
    {
      "cell_type": "code",
      "source": [
        "#14  Write a code to find the index of the element \"cat\" in the tuple ('dog', 'cat', 'rabbit')?\n",
        "\n",
        "my_tuple = ('dog', 'cat', 'rabbit')\n",
        "index_of_cat = my_tuple.index('cat')\n",
        "print(index_of_cat)\n"
      ],
      "metadata": {
        "colab": {
          "base_uri": "https://localhost:8080/"
        },
        "id": "p7h2gSnngeYx",
        "outputId": "f1fdba40-2639-4054-84cc-39c87d9a5c3e"
      },
      "execution_count": 21,
      "outputs": [
        {
          "output_type": "stream",
          "name": "stdout",
          "text": [
            "1\n"
          ]
        }
      ]
    },
    {
      "cell_type": "code",
      "source": [
        "#15  Write a code to create a tuple containing three different fruits and check if \"kiwi\" is in it?\n",
        "\n",
        "thistuple = (\"apple\", \"banana\", \"cherry\")\n",
        "if \"kiwi\" in thistuple:\n",
        "  print(\"Yes, 'kiwi' is in the fruits tuple\")\n",
        "else:\n",
        "  print(\"Not present\")"
      ],
      "metadata": {
        "colab": {
          "base_uri": "https://localhost:8080/"
        },
        "id": "Fo0qX0h2gwqJ",
        "outputId": "7610917a-592c-4237-d6f3-b64fde3adbf2"
      },
      "execution_count": 24,
      "outputs": [
        {
          "output_type": "stream",
          "name": "stdout",
          "text": [
            "Not present\n"
          ]
        }
      ]
    },
    {
      "cell_type": "code",
      "source": [
        "#16. Write a code to create a set with the elements 'a', 'b', 'c' and print it?\n",
        "\n",
        "my_set = {'a', 'b', 'c'}\n",
        "print(my_set)"
      ],
      "metadata": {
        "colab": {
          "base_uri": "https://localhost:8080/"
        },
        "id": "FkQtgNkyhiQ5",
        "outputId": "36667ca3-23b2-4115-e294-4dd2fecaabf8"
      },
      "execution_count": 25,
      "outputs": [
        {
          "output_type": "stream",
          "name": "stdout",
          "text": [
            "{'c', 'a', 'b'}\n"
          ]
        }
      ]
    },
    {
      "cell_type": "code",
      "source": [
        "#17. Write a code to clear all elements from the set {1, 2, 3, 4, 5}\n",
        "\n",
        "my_set = {1, 2, 3, 4, 5}\n",
        "my_set.clear()\n",
        "print(my_set)"
      ],
      "metadata": {
        "colab": {
          "base_uri": "https://localhost:8080/"
        },
        "id": "Z-y6UBNdpQ1z",
        "outputId": "70be01d3-1471-4cb6-d478-a5e47329a8f3"
      },
      "execution_count": 26,
      "outputs": [
        {
          "output_type": "stream",
          "name": "stdout",
          "text": [
            "set()\n"
          ]
        }
      ]
    },
    {
      "cell_type": "code",
      "source": [
        "#18  Write a code to remove the element 4 from the set {1, 2, 3, 4}\n",
        "\n",
        "my_set = {1, 2, 3, 4}\n",
        "my_set.remove(4)\n",
        "print(my_set)"
      ],
      "metadata": {
        "colab": {
          "base_uri": "https://localhost:8080/"
        },
        "id": "H-kdUDOjpn8b",
        "outputId": "d682215b-1eb3-4812-ba6f-cda0758a9525"
      },
      "execution_count": 27,
      "outputs": [
        {
          "output_type": "stream",
          "name": "stdout",
          "text": [
            "{1, 2, 3}\n"
          ]
        }
      ]
    },
    {
      "cell_type": "code",
      "source": [
        "#19. Write a code to find the union of two sets {1, 2, 3} and {3, 4, 5}.\n",
        "\n",
        "A = {1, 2, 3}\n",
        "B = {3, 4, 5}\n",
        "print('A U B = ', A.union(B))"
      ],
      "metadata": {
        "colab": {
          "base_uri": "https://localhost:8080/"
        },
        "id": "2F-s-kuUpw4K",
        "outputId": "7c995525-29df-487b-ea63-8f182c7562f4"
      },
      "execution_count": 28,
      "outputs": [
        {
          "output_type": "stream",
          "name": "stdout",
          "text": [
            "A U B =  {1, 2, 3, 4, 5}\n"
          ]
        }
      ]
    },
    {
      "cell_type": "code",
      "source": [
        "#20 Write a code to find the intersection of two sets {1, 2, 3} and {2, 3, 4}\n",
        "\n",
        "\n",
        "A = {1, 2, 3}\n",
        "B = {2, 3, 4}\n",
        "print('A U B = ', A.intersection(B))"
      ],
      "metadata": {
        "colab": {
          "base_uri": "https://localhost:8080/"
        },
        "id": "jYZOJC1pqDnK",
        "outputId": "916c2fe7-bf71-429e-9493-268322cf9eac"
      },
      "execution_count": 29,
      "outputs": [
        {
          "output_type": "stream",
          "name": "stdout",
          "text": [
            "A U B =  {2, 3}\n"
          ]
        }
      ]
    },
    {
      "cell_type": "code",
      "source": [
        "#21. Write a code to create a dictionary with the keys \"name\", \"age\", and \"city\", and print it?\n",
        "\n",
        "a={'name': 'Divya', \"age\":24, \"city\":\"patna\"}\n",
        "print(a)"
      ],
      "metadata": {
        "colab": {
          "base_uri": "https://localhost:8080/"
        },
        "id": "P8psp4q3qcBL",
        "outputId": "b519e174-6de2-4fe5-8c9a-8acf00c59cb1"
      },
      "execution_count": 30,
      "outputs": [
        {
          "output_type": "stream",
          "name": "stdout",
          "text": [
            "{'name': 'Divya', 'age': 24, 'city': 'patna'}\n"
          ]
        }
      ]
    },
    {
      "cell_type": "code",
      "source": [
        "#22. Write a code to add a new key-value pair \"country\": \"USA\" to the dictionary {'name': 'John', 'age': 25}.\n",
        "\n",
        "a={'name': 'Divya', \"age\":24, \"city\":\"patna\"}\n",
        "a[\"name\"]=\"John\"\n",
        "a[\"age\"]=25\n",
        "print(a)\n"
      ],
      "metadata": {
        "colab": {
          "base_uri": "https://localhost:8080/"
        },
        "id": "TCPT_OXDqzYU",
        "outputId": "3b3d88a2-0e92-402e-d32c-02e54929aafd"
      },
      "execution_count": 31,
      "outputs": [
        {
          "output_type": "stream",
          "name": "stdout",
          "text": [
            "{'name': 'John', 'age': 25, 'city': 'patna'}\n"
          ]
        }
      ]
    },
    {
      "cell_type": "code",
      "source": [
        "#23. Write a code to access the value associated with the key \"name\" in the dictionary {'name': 'Alice', 'age': 30}.\n",
        "\n",
        "a={'name': 'Alice', 'age': 30}\n",
        "a.get(\"name\")\n"
      ],
      "metadata": {
        "colab": {
          "base_uri": "https://localhost:8080/",
          "height": 35
        },
        "id": "TKrckakvtDmI",
        "outputId": "d68b1eea-ba90-446e-cd51-d716750d737d"
      },
      "execution_count": 33,
      "outputs": [
        {
          "output_type": "execute_result",
          "data": {
            "text/plain": [
              "'Alice'"
            ],
            "application/vnd.google.colaboratory.intrinsic+json": {
              "type": "string"
            }
          },
          "metadata": {},
          "execution_count": 33
        }
      ]
    },
    {
      "cell_type": "code",
      "source": [
        "#24. Write a code to remove the key \"age\" from the dictionary {'name': 'Bob', 'age': 22, 'city': 'New York'}.\n",
        "\n",
        "a={'name': 'Bob', 'age': 22, 'city': 'New York'}\n",
        "a.pop(\"age\")\n",
        "print(a)"
      ],
      "metadata": {
        "colab": {
          "base_uri": "https://localhost:8080/"
        },
        "id": "GXH-cGrxtixi",
        "outputId": "705bc19e-9f5f-41a3-de1f-70d835ad44bf"
      },
      "execution_count": 34,
      "outputs": [
        {
          "output_type": "stream",
          "name": "stdout",
          "text": [
            "{'name': 'Bob', 'city': 'New York'}\n"
          ]
        }
      ]
    },
    {
      "cell_type": "code",
      "source": [
        "#25. Write a code to check if the key \"city\" exists in the dictionary {'name': 'Alice', 'city': 'Paris'}.\n",
        "\n",
        "data = {'name': 'Alice', 'city': 'Paris'}\n",
        "\n",
        "if 'city' in data:\n",
        "    print(\"The key 'city' exists in the dictionary.\")\n",
        "else:\n",
        "    print(\"The key 'city' does not exist in the dictionary.\")"
      ],
      "metadata": {
        "colab": {
          "base_uri": "https://localhost:8080/"
        },
        "id": "vr7hHIzwtx_g",
        "outputId": "6aa098bd-9324-4a6b-9147-1ea8934c48b1"
      },
      "execution_count": 35,
      "outputs": [
        {
          "output_type": "stream",
          "name": "stdout",
          "text": [
            "The key 'city' exists in the dictionary.\n"
          ]
        }
      ]
    },
    {
      "cell_type": "code",
      "source": [
        "#26. Write a code to create a list, a tuple, and a dictionary, and print them all?\n",
        "\n",
        "\n",
        "my_list = [1, 2, 3, 4, 5]\n",
        "\n",
        "my_tuple = (10, 20, 30, 40, 50)\n",
        "\n",
        "my_dict = {'name': 'John', 'age': 30, 'city': 'New York'}\n",
        "\n",
        "print(\"List:\", my_list)\n",
        "print(\"Tuple:\", my_tuple)\n",
        "print(\"Dictionary:\", my_dict)\n"
      ],
      "metadata": {
        "colab": {
          "base_uri": "https://localhost:8080/"
        },
        "id": "zXohEawIuiBp",
        "outputId": "65b0933b-bf87-4f75-e06c-b627bcdc324d"
      },
      "execution_count": 36,
      "outputs": [
        {
          "output_type": "stream",
          "name": "stdout",
          "text": [
            "List: [1, 2, 3, 4, 5]\n",
            "Tuple: (10, 20, 30, 40, 50)\n",
            "Dictionary: {'name': 'John', 'age': 30, 'city': 'New York'}\n"
          ]
        }
      ]
    },
    {
      "cell_type": "code",
      "source": [
        "#27   Write a code to create a list of 5 random numbers between 1 and 100, sort it in ascending order, and print the result.(replaced)\n",
        "\n",
        "import random\n",
        "\n",
        "random_numbers = [random.randint(1, 100) for _ in range(5)]\n",
        "\n",
        "random_numbers.sort()\n",
        "\n",
        "print(\"Sorted list of random numbers:\", random_numbers)\n"
      ],
      "metadata": {
        "colab": {
          "base_uri": "https://localhost:8080/"
        },
        "id": "EVTxcOcNuqtw",
        "outputId": "dda6b483-b736-489d-f216-92f5b2023f7c"
      },
      "execution_count": 37,
      "outputs": [
        {
          "output_type": "stream",
          "name": "stdout",
          "text": [
            "Sorted list of random numbers: [12, 15, 58, 60, 63]\n"
          ]
        }
      ]
    },
    {
      "cell_type": "code",
      "source": [
        "#28. Write a code to create a list with strings and print the element at the third index.\n",
        "\n",
        "my_list = [\"apple\", \"banana\", \"cherry\", \"date\", \"elderberry\"]\n",
        "\n",
        "print(\"Element at the third index:\", my_list[3])\n"
      ],
      "metadata": {
        "colab": {
          "base_uri": "https://localhost:8080/"
        },
        "id": "WX2j8_P_u8tY",
        "outputId": "72eb1383-addf-4639-8487-77afcef9da3c"
      },
      "execution_count": 38,
      "outputs": [
        {
          "output_type": "stream",
          "name": "stdout",
          "text": [
            "Element at the third index: date\n"
          ]
        }
      ]
    },
    {
      "cell_type": "code",
      "source": [
        "#29   Write a code to combine two dictionaries into one and print the result\n",
        "\n",
        "dict1 = {'name': 'Alice', 'age': 25}\n",
        "dict2 = {'city': 'Paris', 'country': 'France'}\n",
        "\n",
        "combined_dict = {**dict1, **dict2}\n",
        "\n",
        "print(\"Combined Dictionary:\", combined_dict)\n"
      ],
      "metadata": {
        "colab": {
          "base_uri": "https://localhost:8080/"
        },
        "id": "hUSlEP7MvKCA",
        "outputId": "6be5d5a7-f0a5-4962-a464-cec917154b4e"
      },
      "execution_count": 39,
      "outputs": [
        {
          "output_type": "stream",
          "name": "stdout",
          "text": [
            "Combined Dictionary: {'name': 'Alice', 'age': 25, 'city': 'Paris', 'country': 'France'}\n"
          ]
        }
      ]
    },
    {
      "cell_type": "code",
      "source": [
        "#30. Write a code to convert a list of strings into a set.\n",
        "\n",
        "\n",
        "l = [\"apple\", \"banana\", \"cherry\", \"apple\", \"banana\"]\n",
        "\n",
        "s = set(l)\n",
        "\n",
        "print(\"Set of strings:\", s)\n"
      ],
      "metadata": {
        "colab": {
          "base_uri": "https://localhost:8080/"
        },
        "id": "35wC5ZHEvWaY",
        "outputId": "18bbfd37-60a3-4cad-c92f-d3d9cf31e7e5"
      },
      "execution_count": 40,
      "outputs": [
        {
          "output_type": "stream",
          "name": "stdout",
          "text": [
            "Set of strings: {'apple', 'banana', 'cherry'}\n"
          ]
        }
      ]
    }
  ]
}