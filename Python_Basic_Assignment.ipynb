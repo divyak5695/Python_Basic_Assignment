{
  "nbformat": 4,
  "nbformat_minor": 0,
  "metadata": {
    "colab": {
      "provenance": []
    },
    "kernelspec": {
      "name": "python3",
      "display_name": "Python 3"
    },
    "language_info": {
      "name": "python"
    }
  },
  "cells": [
    {
      "cell_type": "markdown",
      "source": [
        "Python Basic Assignment"
      ],
      "metadata": {
        "id": "VuE7U2gTKNtA"
      }
    },
    {
      "cell_type": "markdown",
      "source": [
        "What is Python, and why is it popular?\n",
        "\n",
        "Ans->Python is a programming language, that is used to build website and software. it is popular for beacuae: easy to learn easy to understand it is open source A lot of libraries widely used in the industry"
      ],
      "metadata": {
        "id": "LX676-YDKNpB"
      }
    },
    {
      "cell_type": "markdown",
      "source": [
        "What is an interpreter in python?\n",
        "\n",
        "Ans->Interpreter is a program that reads and executes Python code line by line,translating it into instructions that computer can understand."
      ],
      "metadata": {
        "id": "qaZBbhWWKNkx"
      }
    },
    {
      "cell_type": "markdown",
      "source": [
        "what are pre-defined keyword in python?\n",
        "\n",
        "Ans-> set of keywords that are reserved words that cannot be used as variable names, function names, or any other identifiers. eg- and.or,if,lse,etc."
      ],
      "metadata": {
        "id": "6-CHvv-6KNiZ"
      }
    },
    {
      "cell_type": "markdown",
      "source": [
        "Can keyword be used as a variable name?\n",
        "\n",
        "Ans->No, keyword can not be used as a variable name."
      ],
      "metadata": {
        "id": "GGZYzBN1KNgG"
      }
    },
    {
      "cell_type": "markdown",
      "source": [
        "What is mutability in Python?\n",
        "\n",
        "Ans->Mutability means that the ability to change state and value after creation. eg- List, dictionary ,etc"
      ],
      "metadata": {
        "id": "qFLgDYJqKNd3"
      }
    },
    {
      "cell_type": "markdown",
      "source": [
        "Why are lists mutable and tuple are immutable?\n",
        "\n",
        "Ans->List are allow you to change their value or data directly without affecting their identity where as tuple don't allow in-place modifications."
      ],
      "metadata": {
        "id": "_Zm_YHV8KNbY"
      }
    },
    {
      "cell_type": "markdown",
      "source": [
        "What is the difference between \"==\" and \"is\"operators in Python?\n",
        "\n",
        "Ans-> The \"==\" operator compares the values of objects, while the \"is\" operator checks if two variables refer to the same object."
      ],
      "metadata": {
        "id": "z9iEwQiBKNZO"
      }
    },
    {
      "cell_type": "markdown",
      "source": [
        "What are logical operators in python?\n",
        "\n",
        "Ans->Logical operators are used to combine conditional statements. Logical operators are and, or , not."
      ],
      "metadata": {
        "id": "xf3Pt4JEKNWy"
      }
    },
    {
      "cell_type": "markdown",
      "source": [
        "What is type casting in Python?\n",
        "\n",
        "Ans->Type casting means process to convert one data type to anither data type."
      ],
      "metadata": {
        "id": "zjPaNYzDKNUc"
      }
    },
    {
      "cell_type": "markdown",
      "source": [
        "What is the difference between implicit and explicit type casting?\n",
        "\n",
        "Ans->Implicit type casting happens automatically when converting data types, while explicit type casting requires a manual instruction from the programmer to convert a value from one type to another."
      ],
      "metadata": {
        "id": "Jl4gksgFKNR_"
      }
    },
    {
      "cell_type": "markdown",
      "source": [
        "What is the purpose of conditional statement in Python?\n",
        "\n",
        "Ans->Conditional statements allow our program to make decisions and execute different code blocks based on whether a condition is true or false."
      ],
      "metadata": {
        "id": "FzEmtC4PKNPm"
      }
    },
    {
      "cell_type": "markdown",
      "source": [
        "How does elif statement work?\n",
        "\n",
        "Ans->if the first condition is false, it moves on to the next “elif” statement to check if that condition is true."
      ],
      "metadata": {
        "id": "a4einSBSKNNV"
      }
    },
    {
      "cell_type": "markdown",
      "source": [
        "What is the difference between for and while loops?\n",
        "\n",
        "Ans->For loops are used when you know the number of iterations, where as while loops are used when the number of iterations depends on a condition that might change during execution."
      ],
      "metadata": {
        "id": "vUkXK0L2KNLw"
      }
    },
    {
      "cell_type": "markdown",
      "source": [
        "Describe a scenario where a while loop is more suitable than a for loop?\n",
        "\n",
        "Ans->A situation where you are reading data from a file until you reach the end. You don't know how many lines the file contains, so you need a loop that keeps reading line by line until there are no more lines to read. In such a case, a \"While Loop\" is more appropriate because the number of iterations needed isn't known in advance—it depends on the file's content."
      ],
      "metadata": {
        "id": "6dOW_EiOK4Jv"
      }
    },
    {
      "cell_type": "markdown",
      "source": [
        "Write a Python program to print \"Hello, World!\""
      ],
      "metadata": {
        "id": "FlBi83fMK5D5"
      }
    },
    {
      "cell_type": "code",
      "source": [
        "print(\"Hello, World!\")"
      ],
      "metadata": {
        "colab": {
          "base_uri": "https://localhost:8080/"
        },
        "id": "ZChpIszeLE8l",
        "outputId": "bf2a8ee0-8b4b-43e5-b126-5b2378e1186b"
      },
      "execution_count": 1,
      "outputs": [
        {
          "output_type": "stream",
          "name": "stdout",
          "text": [
            "Hello, World!\n"
          ]
        }
      ]
    },
    {
      "cell_type": "markdown",
      "source": [
        "Write a python program that display your name and age?"
      ],
      "metadata": {
        "id": "PcTJGxQFK4_8"
      }
    },
    {
      "cell_type": "code",
      "source": [
        "name=input(\"Enter your name\\t\")\n",
        "age=int(input(\"Enter your age\\t\"))\n",
        "print(f\" Your name is {name} and age is {age}\")"
      ],
      "metadata": {
        "colab": {
          "base_uri": "https://localhost:8080/"
        },
        "id": "hmVe2Ko6LLOr",
        "outputId": "eae820b3-1452-4dd0-e4d5-b89827fbe06e"
      },
      "execution_count": 2,
      "outputs": [
        {
          "output_type": "stream",
          "name": "stdout",
          "text": [
            "Enter your name\tDivya\n",
            "Enter your age\t25\n",
            " Your name is Divya and age is 25\n"
          ]
        }
      ]
    },
    {
      "cell_type": "markdown",
      "source": [
        "Write code to print all the pre-define keyword in python using the keyword library?"
      ],
      "metadata": {
        "id": "6TVeoWHMK486"
      }
    },
    {
      "cell_type": "code",
      "source": [
        "import keyword\n",
        "print(keyword.kwlist)"
      ],
      "metadata": {
        "colab": {
          "base_uri": "https://localhost:8080/"
        },
        "id": "SJpTrdRELUdv",
        "outputId": "c6d12a5b-33e8-4ae4-f855-ed15a86f5a0b"
      },
      "execution_count": 3,
      "outputs": [
        {
          "output_type": "stream",
          "name": "stdout",
          "text": [
            "['False', 'None', 'True', 'and', 'as', 'assert', 'async', 'await', 'break', 'class', 'continue', 'def', 'del', 'elif', 'else', 'except', 'finally', 'for', 'from', 'global', 'if', 'import', 'in', 'is', 'lambda', 'nonlocal', 'not', 'or', 'pass', 'raise', 'return', 'try', 'while', 'with', 'yield']\n"
          ]
        }
      ]
    },
    {
      "cell_type": "markdown",
      "source": [
        "Write a program to check if a given keyword is a python keyword ?"
      ],
      "metadata": {
        "id": "w165DBVlK46F"
      }
    },
    {
      "cell_type": "code",
      "source": [
        "import keyword\n",
        "words=keyword.kwlist\n",
        "\n",
        "word=input(\"Enter your keyword\\t\")\n",
        "if word in words:\n",
        "  print(\"Its a keyword\")\n",
        "else:\n",
        "  print(\"Not a keyword\")"
      ],
      "metadata": {
        "colab": {
          "base_uri": "https://localhost:8080/"
        },
        "id": "Y2UB6lr7La1s",
        "outputId": "fbbc677c-dfb1-46f6-afd8-527d76a31584"
      },
      "execution_count": 4,
      "outputs": [
        {
          "output_type": "stream",
          "name": "stdout",
          "text": [
            "Enter your keyword\telse\n",
            "Its a keyword\n"
          ]
        }
      ]
    },
    {
      "cell_type": "markdown",
      "source": [
        "Create a list and tuple in python and domenstrate how attempting to change an element works diffrently for each?"
      ],
      "metadata": {
        "id": "dIbXCFLAK44K"
      }
    },
    {
      "cell_type": "code",
      "source": [
        "#List\"\n",
        "print(\"\\n For list\")\n",
        "marks=[99,75,22,44,55,88,66]\n",
        "print(marks)\n",
        "marks.append(21)\n",
        "print(marks)\n",
        "marks.sort()\n",
        "print(marks)\n",
        "\n",
        "#Tuple\n",
        "print(\"\\n For tuple\")\n",
        "count=(8,3,2,4,6,9)\n",
        "print(count)\n",
        "\n",
        "#for the change in tuple we make a copy of the tuple\n",
        "\n",
        "copy=list(count)\n",
        "copy.append(55)\n",
        "count=tuple(copy)\n",
        "print(count)"
      ],
      "metadata": {
        "colab": {
          "base_uri": "https://localhost:8080/"
        },
        "id": "8IIGqwvGLjkX",
        "outputId": "4060effa-c7f8-47a0-9115-27d4419c9b0d"
      },
      "execution_count": 5,
      "outputs": [
        {
          "output_type": "stream",
          "name": "stdout",
          "text": [
            "\n",
            " For list\n",
            "[99, 75, 22, 44, 55, 88, 66]\n",
            "[99, 75, 22, 44, 55, 88, 66, 21]\n",
            "[21, 22, 44, 55, 66, 75, 88, 99]\n",
            "\n",
            " For tuple\n",
            "(8, 3, 2, 4, 6, 9)\n",
            "(8, 3, 2, 4, 6, 9, 55)\n"
          ]
        }
      ]
    },
    {
      "cell_type": "markdown",
      "source": [
        "Write a function to domenstrate the behaviour of mutable and immutable arguments?"
      ],
      "metadata": {
        "id": "jW2mh4U8K4rG"
      }
    },
    {
      "cell_type": "code",
      "source": [
        "#List\"\n",
        "print(\"\\n For list\")\n",
        "marks=[99,75,22,44,55,88,66]\n",
        "print(marks)\n",
        "marks.append(21)\n",
        "print(marks)\n",
        "marks.sort()\n",
        "print(marks)\n",
        "\n",
        "#Tuple\n",
        "print(\"\\n For tuple\")\n",
        "count=(8,3,2,4,6,9)\n",
        "print(count)\n",
        "\n",
        "#for the change in tuple we make a copy of the tuple\n",
        "\n",
        "copy=list(count)\n",
        "copy.append(55)\n",
        "count=tuple(copy)\n",
        "print(count)"
      ],
      "metadata": {
        "colab": {
          "base_uri": "https://localhost:8080/"
        },
        "id": "B6-68VwzLwM4",
        "outputId": "5ce07945-52d4-45d6-d0db-e8852de9b14a"
      },
      "execution_count": 6,
      "outputs": [
        {
          "output_type": "stream",
          "name": "stdout",
          "text": [
            "\n",
            " For list\n",
            "[99, 75, 22, 44, 55, 88, 66]\n",
            "[99, 75, 22, 44, 55, 88, 66, 21]\n",
            "[21, 22, 44, 55, 66, 75, 88, 99]\n",
            "\n",
            " For tuple\n",
            "(8, 3, 2, 4, 6, 9)\n",
            "(8, 3, 2, 4, 6, 9, 55)\n"
          ]
        }
      ]
    },
    {
      "cell_type": "markdown",
      "source": [
        "Write a function to domenstrate the behaviour of mutable and immutable arguments?"
      ],
      "metadata": {
        "id": "-24G2SywK4oV"
      }
    },
    {
      "cell_type": "code",
      "source": [
        "#List\"\n",
        "print(\"\\n For list\")\n",
        "marks=[99,75,22,44,55,88,66]\n",
        "print(marks)\n",
        "marks.append(21)\n",
        "print(marks)\n",
        "marks.sort()\n",
        "print(marks)\n",
        "\n",
        "#Tuple\n",
        "print(\"\\n For tuple\")\n",
        "count=(8,3,2,4,6,9)\n",
        "print(count)\n",
        "\n",
        "#for the change in tuple we make a copy of the tuple\n",
        "\n",
        "copy=list(count)\n",
        "copy.append(55)\n",
        "count=tuple(copy)\n",
        "print(count)"
      ],
      "metadata": {
        "colab": {
          "base_uri": "https://localhost:8080/"
        },
        "id": "pT0oNNgQLxuB",
        "outputId": "fe7d8dba-a9c0-4efd-81b5-eb6c257e9eeb"
      },
      "execution_count": 7,
      "outputs": [
        {
          "output_type": "stream",
          "name": "stdout",
          "text": [
            "\n",
            " For list\n",
            "[99, 75, 22, 44, 55, 88, 66]\n",
            "[99, 75, 22, 44, 55, 88, 66, 21]\n",
            "[21, 22, 44, 55, 66, 75, 88, 99]\n",
            "\n",
            " For tuple\n",
            "(8, 3, 2, 4, 6, 9)\n",
            "(8, 3, 2, 4, 6, 9, 55)\n"
          ]
        }
      ]
    },
    {
      "cell_type": "markdown",
      "source": [
        "Write a program to domentrate to use a logical operator?"
      ],
      "metadata": {
        "id": "N6Sqk8uOL_jF"
      }
    },
    {
      "cell_type": "code",
      "source": [
        "a = 5\n",
        "b = 6\n",
        "\n",
        "print((a > 2) and (b >= 6))\n",
        "\n",
        "# logical AND\n",
        "print(True and True)\n",
        "print(True and False)\n",
        "\n",
        "# logical OR\n",
        "print(True or False)\n",
        "\n",
        "# logical NOT\n",
        "print(not True)"
      ],
      "metadata": {
        "colab": {
          "base_uri": "https://localhost:8080/"
        },
        "id": "3OBruF_xL4CY",
        "outputId": "9ecfceb1-e725-40eb-eeeb-a4bf7cdbc3a2"
      },
      "execution_count": 8,
      "outputs": [
        {
          "output_type": "stream",
          "name": "stdout",
          "text": [
            "True\n",
            "True\n",
            "False\n",
            "True\n",
            "False\n"
          ]
        }
      ]
    },
    {
      "cell_type": "markdown",
      "source": [
        "Write a python program to convert user input from string to integer, float, and boolean types?"
      ],
      "metadata": {
        "id": "pAntzZ7cL07L"
      }
    },
    {
      "cell_type": "code",
      "source": [
        "num1=input(\"enter your number 1\\t\")\n",
        "\n",
        "# input are in string\n",
        "print(num1)\n",
        "print(type(num1))\n",
        "\n",
        "#convert string into integer\n",
        "a=int(num1)\n",
        "print(a)\n",
        "print(type(a))\n",
        "\n",
        "#convert into float\n",
        "b=float(num1)\n",
        "print(b)\n",
        "print(type(b))\n",
        "\n",
        "#convert into boolean\n",
        "c=bool(num1)\n",
        "print(c)\n",
        "print(type(c))"
      ],
      "metadata": {
        "colab": {
          "base_uri": "https://localhost:8080/"
        },
        "id": "WnBxUst3MJgx",
        "outputId": "7de953f8-699b-47b2-c889-21a62f05dbce"
      },
      "execution_count": 9,
      "outputs": [
        {
          "output_type": "stream",
          "name": "stdout",
          "text": [
            "enter your number 1\t22\n",
            "22\n",
            "<class 'str'>\n",
            "22\n",
            "<class 'int'>\n",
            "22.0\n",
            "<class 'float'>\n",
            "True\n",
            "<class 'bool'>\n"
          ]
        }
      ]
    },
    {
      "cell_type": "markdown",
      "source": [
        "Write a code to domenstrate type casting with ist element?"
      ],
      "metadata": {
        "id": "c8hxBlgNL0l9"
      }
    },
    {
      "cell_type": "code",
      "source": [
        "item=[3, 7, \"99\", 66,44, False]\n",
        "lst = [int(i) for i in item ]\n",
        "print(lst)"
      ],
      "metadata": {
        "colab": {
          "base_uri": "https://localhost:8080/"
        },
        "id": "sI0dWVEmMP97",
        "outputId": "fb6841f0-dd4c-4a30-c45e-1b921c5cbc9f"
      },
      "execution_count": 10,
      "outputs": [
        {
          "output_type": "stream",
          "name": "stdout",
          "text": [
            "[3, 7, 99, 66, 44, 0]\n"
          ]
        }
      ]
    },
    {
      "cell_type": "markdown",
      "source": [
        "Write a program to check if a number is positive , negative and zero?"
      ],
      "metadata": {
        "id": "mW6SccJAL0jF"
      }
    },
    {
      "cell_type": "code",
      "source": [
        "num = int(input(\"Enter a number: \"))\n",
        "if num > 0:\n",
        "   print(\"Positive number\")\n",
        "elif num == 0:\n",
        "   print(\"Zero\")\n",
        "else:\n",
        "   print(\"Negative number\")"
      ],
      "metadata": {
        "colab": {
          "base_uri": "https://localhost:8080/"
        },
        "id": "9Yg0Hh0kMVDI",
        "outputId": "ac0991d6-0187-4ef0-e70e-bc4b87e5d953"
      },
      "execution_count": 11,
      "outputs": [
        {
          "output_type": "stream",
          "name": "stdout",
          "text": [
            "Enter a number: -9\n",
            "Negative number\n"
          ]
        }
      ]
    },
    {
      "cell_type": "markdown",
      "source": [
        "Write a for loop to print numbers from 1 to 10?"
      ],
      "metadata": {
        "id": "MoFQLs1YMVcQ"
      }
    },
    {
      "cell_type": "code",
      "source": [
        "for i in range (1,11):\n",
        "  print(i)"
      ],
      "metadata": {
        "colab": {
          "base_uri": "https://localhost:8080/"
        },
        "id": "2Rxm5dFmMWS2",
        "outputId": "407e6d11-5909-4d96-bbfb-b9d3d9f323d1"
      },
      "execution_count": 12,
      "outputs": [
        {
          "output_type": "stream",
          "name": "stdout",
          "text": [
            "1\n",
            "2\n",
            "3\n",
            "4\n",
            "5\n",
            "6\n",
            "7\n",
            "8\n",
            "9\n",
            "10\n"
          ]
        }
      ]
    },
    {
      "cell_type": "markdown",
      "source": [
        "Write a python program to print a sum of all even number between 1 to 50?"
      ],
      "metadata": {
        "id": "l3mEyCqUMWxk"
      }
    },
    {
      "cell_type": "code",
      "source": [
        "sum=0\n",
        "i=0\n",
        "while(i<51):\n",
        "  if i%2==0:\n",
        "    sum+=i\n",
        "  i=i+1\n",
        "print(sum)"
      ],
      "metadata": {
        "colab": {
          "base_uri": "https://localhost:8080/"
        },
        "id": "zoEDhR6iMX38",
        "outputId": "f66c4ac8-749f-418d-d376-9b40865dbfac"
      },
      "execution_count": 13,
      "outputs": [
        {
          "output_type": "stream",
          "name": "stdout",
          "text": [
            "650\n"
          ]
        }
      ]
    },
    {
      "cell_type": "markdown",
      "source": [
        "Write a program to reverse a string using a while loop?"
      ],
      "metadata": {
        "id": "MhKzC_AnMqLs"
      }
    },
    {
      "cell_type": "code",
      "source": [
        "a = input(\"Please enter your string : \")\n",
        "\n",
        "b = ''\n",
        "i = len(a) - 1\n",
        "\n",
        "while(i >= 0):\n",
        "    b = b + a[i]\n",
        "    i = i - 1\n",
        "\n",
        "print(\"\\nThe Original = \", a)\n",
        "print(\"The reverse = \", b)"
      ],
      "metadata": {
        "colab": {
          "base_uri": "https://localhost:8080/"
        },
        "id": "1eWAg8SwMqwd",
        "outputId": "9694c034-86c7-4f13-8d84-f5b90f1f001e"
      },
      "execution_count": 14,
      "outputs": [
        {
          "output_type": "stream",
          "name": "stdout",
          "text": [
            "Please enter your string : divya\n",
            "\n",
            "The Original =  divya\n",
            "The reverse =  ayvid\n"
          ]
        }
      ]
    },
    {
      "cell_type": "markdown",
      "source": [
        "Write a python program to calculate the factorial provided by the user using a while loop?"
      ],
      "metadata": {
        "id": "AaB1KwNDMrPb"
      }
    },
    {
      "cell_type": "code",
      "source": [
        "num = int(input(\"enter your number\\n\"))\n",
        "\n",
        "factorial = 1\n",
        "if num < 0:\n",
        "   print(\"negative numbers\")\n",
        "elif num == 0:\n",
        "   print(\"The factorial of 0 is 1\")\n",
        "else:\n",
        "   for i in range(1,num + 1):\n",
        "       factorial = factorial*i\n",
        "   print(\"The factorial of\",num,\"is\",factorial)"
      ],
      "metadata": {
        "colab": {
          "base_uri": "https://localhost:8080/"
        },
        "id": "IMZKKGdtMsMU",
        "outputId": "98da0857-2718-411d-84fa-b5ae7e08a1c8"
      },
      "execution_count": 15,
      "outputs": [
        {
          "output_type": "stream",
          "name": "stdout",
          "text": [
            "enter your number\n",
            "5\n",
            "The factorial of 5 is 120\n"
          ]
        }
      ]
    }
  ]
}