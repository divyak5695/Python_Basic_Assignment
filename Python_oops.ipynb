{
  "nbformat": 4,
  "nbformat_minor": 0,
  "metadata": {
    "colab": {
      "provenance": []
    },
    "kernelspec": {
      "name": "python3",
      "display_name": "Python 3"
    },
    "language_info": {
      "name": "python"
    }
  },
  "cells": [
    {
      "cell_type": "markdown",
      "source": [
        "1   What is Object-Oriented Programming (OOP)?\n",
        "\n",
        "Ans   Object-Oriented Programming (OOP) is a programming paradigm that organizes software design around objects, rather than functions and logic. n object is a self-contained unit that contains both data and methods"
      ],
      "metadata": {
        "id": "OZ2Tgi1VoQP7"
      }
    },
    {
      "cell_type": "markdown",
      "source": [
        "2   What is a class in OOP?\n",
        "\n",
        "Ans  ChatGPT said:\n",
        "A class in Object-Oriented Programming is a blueprint for creating objects. It defines the attributes and methods that the objects created from the class will have."
      ],
      "metadata": {
        "id": "VxVCB2hsolDn"
      }
    },
    {
      "cell_type": "markdown",
      "source": [
        "3   What is an object in OOP?\n",
        "\n",
        "Ans   In Object-Oriented Programming (OOP), an object is a specific instance of a class. It represents a real-world entity and contains:\n",
        "\n",
        "Attributes\n",
        "\n",
        "Methods"
      ],
      "metadata": {
        "id": "p2q0ezqIo3mm"
      }
    },
    {
      "cell_type": "markdown",
      "source": [
        "4    What is the difference between abstraction and encapsulation?\n",
        "\n",
        "\n",
        "Ans   Abstraction -> hiding unnecessary details and showing only the relevant parts.\n",
        "\n",
        "Encapsulation->  Wrapping the data (variables) and methods (functions) together and restricting access to some parts."
      ],
      "metadata": {
        "id": "53RLw2aqpUGe"
      }
    },
    {
      "cell_type": "markdown",
      "source": [
        "5   What are dunder methods in Python?\n",
        "\n",
        "Ans     Dunder methods let you make your custom classes behave like built-in types. In Python, dunder methods (short for double underscore methods) are special methods that have double underscores at the beginning and end of their names, like __init__, __str__, __len__, __add__, etc."
      ],
      "metadata": {
        "id": "z2QObk7ApnKv"
      }
    },
    {
      "cell_type": "markdown",
      "source": [
        "6     Explain the concept of inheritance in OOP?\n",
        "\n",
        "\n",
        "Ans    Inheritance is one of the core concepts in Object-Oriented Programming (OOP). It allows a class (known as the child or subclass) to inherit the attributes and methods from another class (known as the parent or superclass). This helps in creating a hierarchy of classes and promotes code reusability."
      ],
      "metadata": {
        "id": "g6NGXXawqLEW"
      }
    },
    {
      "cell_type": "markdown",
      "source": [
        "7   What is polymorphism in OOP?\n",
        "\n",
        "Ans     Polymorphism means \"many shapes.\" It allows you to define methods in the parent class that can be overridden in the child classes, and when called, the correct version of the method is executed based on the object type."
      ],
      "metadata": {
        "id": "Vii6MUyQqe1N"
      }
    },
    {
      "cell_type": "markdown",
      "source": [
        "8    How is encapsulation achieved in Python?\n",
        "\n",
        "Ans   Encapsulaton that involves bundling the data (attributes) and the methods (functions) that operate on that data within a single unit, or class. It also helps in restricting access to some of the object's components, which can prevent accidental modification of data."
      ],
      "metadata": {
        "id": "gEPeP_kyqtcm"
      }
    },
    {
      "cell_type": "markdown",
      "source": [
        "9   What is a constructor in Python?\n",
        "\n",
        "Ans    In Python, a constructor is a special method that is automatically called when a new instance of a class is created. It is used to initialize the object's attributes (properties) with values when the object is created.\n",
        "\n",
        "The constructor in Python is defined using the special method __init__()."
      ],
      "metadata": {
        "id": "DsFvHV-rq8PO"
      }
    },
    {
      "cell_type": "markdown",
      "source": [
        "10   What are class and static methods in Python?\n",
        "\n",
        "Ans   A class method is a method that is bound to the class and not the instance of the class. This means it takes the class itself as the first argument (usually named cls), allowing it to modify or access class-level attributes and methods.\n",
        "\n",
        "A static method is a method that is not bound to the class or the instance. It doesn't take self (instance) or cls (class) as the first argument. Static methods are like regular functions that belong to the class's namespace but don't have access to class or instance data."
      ],
      "metadata": {
        "id": "I9zTpAJ1rH4O"
      }
    },
    {
      "cell_type": "markdown",
      "source": [
        "11     What is method overloading in Python?\n",
        "\n",
        "\n",
        "Ans    In Python, method overloading refers to the ability to define multiple methods with the same name but different arguments (parameters) within the same class. However, unlike some other programming languages like Java or C++, Python does not support method overloading in the traditional sense.\n",
        "\n",
        "Python allows only one method with a particular name per class. If you define the same method name multiple times, the latest definition will overwrite the previous ones."
      ],
      "metadata": {
        "id": "BQF8Kk8zrbRt"
      }
    },
    {
      "cell_type": "markdown",
      "source": [
        "12  What is method overriding in OOP?\n",
        "\n",
        "\n",
        "Ans   Method Overriding in Object-Oriented Programming (OOP) is a feature that allows a subclass to provide a specific implementation of a method that is already defined in its superclass. The method in the subclass has the same name, same parameters, and same return type as the method in the superclass. When the method is called on an instance of the subclass, the subclass's version of the method is executed, overriding the version in the superclass."
      ],
      "metadata": {
        "id": "EPDsr-qGsNqE"
      }
    },
    {
      "cell_type": "markdown",
      "source": [
        "13    What is a property decorator in Python?\n",
        "\n",
        "Ans   In Python, the @property decorator is used to define a method as a getter for an attribute, which allows you to define a read-only property that can be accessed like an attribute but with the logic of a method behind it. This helps encapsulate the behavior of an attribute and gives you more control over how the attribute is accessed or modified."
      ],
      "metadata": {
        "id": "VNALwwVpscjF"
      }
    },
    {
      "cell_type": "markdown",
      "source": [
        "14   Why is polymorphism important in OOP?\n",
        "\n",
        "Ans    Polymorphism is importat in oops are:\n",
        "\n",
        "1  Code Reusability\n",
        "2  Flexibility and Extensibility\n",
        "3  Improved Maintainability\n",
        "4  Simplified Code and Better Readability\n",
        "5  Supports Dynamic Method Dispatch (Runtime Polymorphism)\n",
        "6  Polymorphism in Interfaces and Abstract Classes\n",
        "7  Enhancing Testability\n",
        "8  Enables Design Patterns"
      ],
      "metadata": {
        "id": "i6vug_P3sshm"
      }
    },
    {
      "cell_type": "markdown",
      "source": [
        "15   What is an abstract class in Python?\n",
        "\n",
        "\n",
        "\n",
        "Ans   An abstract class in Python is a class that cannot be instantiated directly and is meant to serve as a blueprint for other classes. It defines a common interface for its subclasses, where the subclasses are expected to implement the abstract methods defined in the abstract class."
      ],
      "metadata": {
        "id": "aVkFcXMOtgZl"
      }
    },
    {
      "cell_type": "markdown",
      "source": [
        "16   What are the advantages of OOP?\n",
        "\n",
        "\n",
        "Ans   The advantage of oops are:\n",
        "\n",
        "1   Modularity (Encapsulation)\n",
        "2   Code Reusability\n",
        "3   Maintainability\n",
        "4    Scalability\n",
        "5    Flexibility through Polymorphism\n",
        "6   Inheritance and Extensibility\n",
        "7   Data Security and Abstraction\n",
        "8   Improved Collaboration\n",
        "9   Real-World Modeling"
      ],
      "metadata": {
        "id": "zWfL9y0ytqZ9"
      }
    },
    {
      "cell_type": "markdown",
      "source": [
        "17    What is the difference between a class variable and an instance variable?\n",
        "\n",
        "\n",
        "\n",
        "Ans   A class variable is a variable that is shared by all instances (objects) of the class. It is defined inside the class, but outside of any methods.\n",
        "\n",
        "An instance variable is a variable that is tied to a specific instance of the class. It is defined inside the constructor (__init__ method) or inside any method using the self keyword."
      ],
      "metadata": {
        "id": "RUTUZxzWufRM"
      }
    },
    {
      "cell_type": "markdown",
      "source": [
        "18     What is multiple inheritance in Python?\n",
        "\n",
        "\n",
        "Ans   Multiple inheritance in Python is a feature that allows a class to inherit from more than one parent class. This means that a single class can have multiple base classes, and it can inherit attributes and methods from all of them."
      ],
      "metadata": {
        "id": "fTrDyr5RunAN"
      }
    },
    {
      "cell_type": "markdown",
      "source": [
        "19      Explain the purpose of ‘’__str__’ and ‘__repr__’ ‘ methods in Python?\n",
        "\n",
        "Ans   __str__ Method:   It provides a user-friendly string representation of an object, typically focusing on how the object might be presented in the context of the program's end user.\n",
        "\n",
        "\n",
        "__repr__ Method:  It is meant to provide a \"formal\" or \"developer-friendly\" string representation of the object, typically used for debugging purposes."
      ],
      "metadata": {
        "id": "8aTd2lcou2Qc"
      }
    },
    {
      "cell_type": "markdown",
      "source": [
        "20   What is the significance of the ‘super()’ function in Python?\n",
        "\n",
        "Ans    The super() function in Python is used to call a method from a parent class (also known as a superclass) from within a child class (also known as a subclass). It provides a way to access and invoke methods from a parent class in a child class, which is especially useful in the context of inheritance and method overriding."
      ],
      "metadata": {
        "id": "zqHK2wO_vKU8"
      }
    },
    {
      "cell_type": "markdown",
      "source": [
        "21      What is the significance of the __del__ method in Python?\n",
        "\n",
        "Ans    Significance of __del__ Method:\n",
        "\n",
        "1  Resource Cleanup:If your class involves external resources like file handles, database connections, or network connections, you can use the __del__ method to close or release those resources before the object is destroyed.\n",
        "\n",
        "\n",
        "2  Automatic Cleanup: When an object is destroyed, Python automatically calls the __del__ method, which is useful for cleaning up after the object without the need for the programmer to manually intervene\n",
        "\n",
        "\n",
        "3  Finalization:  The __del__ method can be used for any finalization task that is necessary before the object is removed from memory."
      ],
      "metadata": {
        "id": "BCBAjpnBvV18"
      }
    },
    {
      "cell_type": "markdown",
      "source": [
        "22    What is the difference between @staticmethod and @classmethod in Python?\n",
        "\n",
        "\n",
        "Ans   @staticmethod:\n",
        "A static method is a method that does not depend on class or instance-specific data. It behaves like a regular function that belongs to the class, but it doesn't have access to the class or instance (self or cls) unless explicitly passed as argument\n",
        "\n",
        "\n",
        "@classmethod:\n",
        "A class method is a method that operates on the class itself, rather than on instances of the class. It takes cls (the class itself) as its first parameter, which allows it to modify class state and access class-level attributes."
      ],
      "metadata": {
        "id": "GLN0WCxqvzGb"
      }
    },
    {
      "cell_type": "markdown",
      "source": [
        "23   How does polymorphism work in Python with inheritance?\n",
        "\n",
        "Ans   Method Overriding: In inheritance, a subclass can override a method defined in its parent class. This allows the subclass to provide its own implementation of the method while maintaining the same interface (method name).\n",
        "\n",
        "Dynamic Method Resolution: Python will call the method based on the actual type of the object, not the type of the reference. This means if a method is overridden in a subclass, the subclass's version of the method will be called, even if the object is referenced as an instance of the parent class."
      ],
      "metadata": {
        "id": "aeXB3oZ0wB2j"
      }
    },
    {
      "cell_type": "markdown",
      "source": [
        "24   What is method chaining in Python OOP?\n",
        "\n",
        "Ans  Method chaining is a programming technique where multiple methods are called on the same object in a single line of code. In Python, this is often used in Object-Oriented Programming (OOP) to make the code more compact and readable by executing multiple method calls in a sequence."
      ],
      "metadata": {
        "id": "cMKAzxi_wMxz"
      }
    },
    {
      "cell_type": "markdown",
      "source": [
        "25    What is the purpose of the __call__ method in Python?\n",
        "\n",
        "Ans   The __call__ method in Python is a special method that allows an instance of a class to be called as if it were a function. When you define the __call__ method in a class, you enable objects of that class to be invoked like functions."
      ],
      "metadata": {
        "id": "bvRgS87GwXqb"
      }
    },
    {
      "cell_type": "code",
      "source": [
        "#1     Create a parent class Animal with a method speak() that prints a generic message. Create a child class Dog that overrides the speak() method to print \"Bark!\n",
        "\n",
        "class Animal:\n",
        "    def speak(self):\n",
        "        print(\"The animal makes a sound.\")\n",
        "\n",
        "class Dog(Animal):\n",
        "    def speak(self):\n",
        "        print(\"Bark!\")\n",
        "\n",
        "animal = Animal()\n",
        "animal.speak()\n",
        "\n",
        "dog = Dog()\n",
        "dog.speak()"
      ],
      "metadata": {
        "colab": {
          "base_uri": "https://localhost:8080/"
        },
        "id": "wrJc6oKcwlua",
        "outputId": "f1b2bcba-361b-45dd-890c-3fa5972f79db"
      },
      "execution_count": 1,
      "outputs": [
        {
          "output_type": "stream",
          "name": "stdout",
          "text": [
            "The animal makes a sound.\n",
            "Bark!\n"
          ]
        }
      ]
    },
    {
      "cell_type": "code",
      "execution_count": 2,
      "metadata": {
        "id": "TSk0irItnyRx",
        "colab": {
          "base_uri": "https://localhost:8080/"
        },
        "outputId": "03608107-ef1e-4b2e-8cbe-c8ffc08446b0"
      },
      "outputs": [
        {
          "output_type": "stream",
          "name": "stdout",
          "text": [
            "Area of the circle: 78.53981633974483\n",
            "Area of the rectangle: 24\n"
          ]
        }
      ],
      "source": [
        "#2   Write a program to create an abstract class Shape with a method area(). Derive classes Circle and Rectangle from it and implement the area() method in both.\n",
        "\n",
        "\n",
        "from abc import ABC, abstractmethod\n",
        "import math\n",
        "\n",
        "class Shape(ABC):\n",
        "    @abstractmethod\n",
        "    def area(self):\n",
        "        pass\n",
        "\n",
        "class Circle(Shape):\n",
        "    def __init__(self, radius):\n",
        "        self.radius = radius\n",
        "\n",
        "    def area(self):\n",
        "        return math.pi * self.radius ** 2\n",
        "\n",
        "class Rectangle(Shape):\n",
        "    def __init__(self, width, height):\n",
        "        self.width = width\n",
        "        self.height = height\n",
        "\n",
        "    def area(self):\n",
        "        return self.width * self.height\n",
        "\n",
        "circle = Circle(5)\n",
        "rectangle = Rectangle(4, 6)\n",
        "\n",
        "print(f\"Area of the circle: {circle.area()}\")\n",
        "print(f\"Area of the rectangle: {rectangle.area()}\")\n"
      ]
    },
    {
      "cell_type": "code",
      "source": [
        "#3    Implement a multi-level inheritance scenario where a class Vehicle has an attribute type. Derive a class Car and further derive a class ElectricCar that adds a battery attribute.\n",
        "\n",
        "\n",
        "\n",
        "class Vehicle:\n",
        "    def __init__(self, type_of_vehicle):\n",
        "        self.type = type_of_vehicle\n",
        "\n",
        "    def display_type(self):\n",
        "        print(f\"This is a {self.type}.\")\n",
        "\n",
        "class Car(Vehicle):\n",
        "    def __init__(self, type_of_vehicle, make, model):\n",
        "        super().__init__(type_of_vehicle)\n",
        "        self.make = make\n",
        "        self.model = model\n",
        "\n",
        "    def display_details(self):\n",
        "        print(f\"Make: {self.make}\")\n",
        "        print(f\"Model: {self.model}\")\n",
        "\n",
        "class ElectricCar(Car):\n",
        "    def __init__(self, type_of_vehicle, make, model, battery_capacity):\n",
        "        super().__init__(type_of_vehicle, make, model)\n",
        "        self.battery_capacity = battery_capacity\n",
        "\n",
        "    def display_battery(self):\n",
        "        print(f\"Battery Capacity: {self.battery_capacity} kWh\")\n",
        "\n",
        "my_electric_car = ElectricCar(\"Electric Vehicle\", \"Tesla\", \"Model S\", 100)\n",
        "\n",
        "my_electric_car.display_type()\n",
        "my_electric_car.display_details()\n",
        "my_electric_car.display_battery()\n"
      ],
      "metadata": {
        "colab": {
          "base_uri": "https://localhost:8080/"
        },
        "id": "u8kDCGelxP6j",
        "outputId": "f478cb13-cd7f-4ae2-e3f2-3b84bafddf03"
      },
      "execution_count": 3,
      "outputs": [
        {
          "output_type": "stream",
          "name": "stdout",
          "text": [
            "This is a Electric Vehicle.\n",
            "Make: Tesla\n",
            "Model: Model S\n",
            "Battery Capacity: 100 kWh\n"
          ]
        }
      ]
    },
    {
      "cell_type": "code",
      "source": [
        "#4    Demonstrate polymorphism by creating a base class Bird with a method fly(). Create two derived classes Sparrow and Penguin that override the fly() method\n",
        "\n",
        "class Bird:\n",
        "    def fly(self):\n",
        "        print(\"The bird flies in the sky.\")\n",
        "\n",
        "class Sparrow(Bird):\n",
        "    def fly(self):\n",
        "        print(\"The sparrow flies swiftly.\")\n",
        "\n",
        "class Penguin(Bird):\n",
        "    def fly(self):\n",
        "        print(\"Penguins cannot fly.\")\n",
        "\n",
        "sparrow = Sparrow()\n",
        "penguin = Penguin()\n",
        "\n",
        "def make_bird_fly(bird):\n",
        "    bird.fly()\n",
        "\n",
        "make_bird_fly(sparrow)\n",
        "make_bird_fly(penguin)"
      ],
      "metadata": {
        "colab": {
          "base_uri": "https://localhost:8080/"
        },
        "id": "kRWdIhy7xk98",
        "outputId": "7864b1f6-05eb-49c0-a6c2-dd0d3d6f59aa"
      },
      "execution_count": 4,
      "outputs": [
        {
          "output_type": "stream",
          "name": "stdout",
          "text": [
            "The sparrow flies swiftly.\n",
            "Penguins cannot fly.\n"
          ]
        }
      ]
    },
    {
      "cell_type": "code",
      "source": [
        "#5   Write a program to demonstrate encapsulation by creating a class BankAccount with private attributes balance and methods to deposit, withdraw, and check balance\n",
        "\n",
        "class BankAccount:\n",
        "    def __init__(self, initial_balance=0):\n",
        "\n",
        "        self.__balance = initial_balance\n",
        "\n",
        "    def deposit(self, amount):\n",
        "        if amount > 0:\n",
        "            self.__balance += amount\n",
        "            print(f\"Deposited {amount}. New balance: {self.__balance}\")\n",
        "        else:\n",
        "            print(\"Deposit amount must be positive.\")\n",
        "\n",
        "    def withdraw(self, amount):\n",
        "        if amount > 0 and amount <= self.__balance:\n",
        "            self.__balance -= amount\n",
        "            print(f\"Withdrew {amount}. New balance: {self.__balance}\")\n",
        "        elif amount > self.__balance:\n",
        "            print(\"Insufficient balance.\")\n",
        "        else:\n",
        "            print(\"Withdrawal amount must be positive.\")\n",
        "\n",
        "    def check_balance(self):\n",
        "        print(f\"Current balance: {self.__balance}\")\n",
        "\n",
        "account = BankAccount(1000)\n",
        "\n",
        "account.check_balance()\n",
        "account.deposit(500)\n",
        "account.withdraw(200)\n",
        "account.withdraw(2000)\n",
        "account.deposit(-100)\n",
        "\n"
      ],
      "metadata": {
        "colab": {
          "base_uri": "https://localhost:8080/"
        },
        "id": "FBUIwxIyx0vz",
        "outputId": "1df39cc8-6864-4591-e99b-c7913a0a406c"
      },
      "execution_count": 5,
      "outputs": [
        {
          "output_type": "stream",
          "name": "stdout",
          "text": [
            "Current balance: 1000\n",
            "Deposited 500. New balance: 1500\n",
            "Withdrew 200. New balance: 1300\n",
            "Insufficient balance.\n",
            "Deposit amount must be positive.\n"
          ]
        }
      ]
    },
    {
      "cell_type": "code",
      "source": [
        "#6    Demonstrate runtime polymorphism using a method play() in a base class Instrument. Derive classes Guitar and Piano that implement their own version of play()\n",
        "\n",
        "class Instrument:\n",
        "    def play(self):\n",
        "        print(\"The instrument is being played.\")\n",
        "\n",
        "class Guitar(Instrument):\n",
        "    def play(self):\n",
        "        print(\"Strumming the guitar.\")\n",
        "\n",
        "class Piano(Instrument):\n",
        "    def play(self):\n",
        "        print(\"Playing the piano.\")\n",
        "\n",
        "def perform_instrument_play(instrument):\n",
        "    instrument.play()\n",
        "\n",
        "guitar = Guitar()\n",
        "piano = Piano()\n",
        "\n",
        "perform_instrument_play(guitar)\n",
        "perform_instrument_play(piano)\n"
      ],
      "metadata": {
        "colab": {
          "base_uri": "https://localhost:8080/"
        },
        "id": "Owfxz5TFyImr",
        "outputId": "beeec2dd-72ac-4f4b-b72e-60e9a58ab0bb"
      },
      "execution_count": 6,
      "outputs": [
        {
          "output_type": "stream",
          "name": "stdout",
          "text": [
            "Strumming the guitar.\n",
            "Playing the piano.\n"
          ]
        }
      ]
    },
    {
      "cell_type": "code",
      "source": [
        "#7    Create a class MathOperations with a class method add_numbers() to add two numbers and a static method subtract_numbers() to subtract two numbers\n",
        "\n",
        "class MathOperations:\n",
        "    @classmethod\n",
        "    def add_numbers(cls, a, b):\n",
        "        return a + b\n",
        "\n",
        "    @staticmethod\n",
        "    def subtract_numbers(a, b):\n",
        "        return a - b\n",
        "\n",
        "result_add = MathOperations.add_numbers(5, 3)\n",
        "result_subtract = MathOperations.subtract_numbers(5, 3)\n",
        "\n",
        "print(f\"Subtraction result: {result_subtract}\")\n"
      ],
      "metadata": {
        "colab": {
          "base_uri": "https://localhost:8080/"
        },
        "id": "cWK5ts90yYBL",
        "outputId": "acc7b2da-53c8-4936-c099-93735ad72d3d"
      },
      "execution_count": 7,
      "outputs": [
        {
          "output_type": "stream",
          "name": "stdout",
          "text": [
            "Subtraction result: 2\n"
          ]
        }
      ]
    },
    {
      "cell_type": "code",
      "source": [
        "#8   Implement a class Person with a class method to count the total number of persons created\n",
        "\n",
        "\n",
        "class Person:\n",
        "    total_persons = 0\n",
        "\n",
        "    def __init__(self, name, age):\n",
        "        self.name = name\n",
        "        self.age = age\n",
        "        Person.total_persons += 1\n",
        "\n",
        "    @classmethod\n",
        "    def get_total_persons(cls):\n",
        "        return cls.total_persons\n",
        "\n",
        "person1 = Person(\"Alice\", 30)\n",
        "person2 = Person(\"Bob\", 25)\n",
        "person3 = Person(\"Charlie\", 35)\n",
        "\n",
        "print(f\"Total persons created: {Person.get_total_persons()}\")\n"
      ],
      "metadata": {
        "colab": {
          "base_uri": "https://localhost:8080/"
        },
        "id": "-KZpBc8symnL",
        "outputId": "5d0f7311-4f28-4dfe-8f9a-66c24cb3804e"
      },
      "execution_count": 8,
      "outputs": [
        {
          "output_type": "stream",
          "name": "stdout",
          "text": [
            "Total persons created: 3\n"
          ]
        }
      ]
    },
    {
      "cell_type": "code",
      "source": [
        "#9   Write a class Fraction with attributes numerator and denominator. Override the str method to display the fraction as \"numerator/denominator\".\n",
        "\n",
        "\n",
        "class Fraction:\n",
        "    def __init__(self, numerator, denominator):\n",
        "        self.numerator = numerator\n",
        "        self.denominator = denominator\n",
        "\n",
        "    def __str__(self):\n",
        "        return f\"{self.numerator}/{self.denominator}\"\n",
        "\n",
        "fraction = Fraction(3, 4)\n",
        "\n",
        "print(fraction)\n"
      ],
      "metadata": {
        "colab": {
          "base_uri": "https://localhost:8080/"
        },
        "id": "ZwRJ6gUvy5iT",
        "outputId": "deca353f-3004-47aa-a6f3-d514ea88e734"
      },
      "execution_count": 9,
      "outputs": [
        {
          "output_type": "stream",
          "name": "stdout",
          "text": [
            "3/4\n"
          ]
        }
      ]
    },
    {
      "cell_type": "code",
      "source": [
        "#10  . Demonstrate operator overloading by creating a class Vector and overriding the add method to add two vectors\n",
        "\n",
        "class Vector:\n",
        "    def __init__(self, x, y):\n",
        "        self.x = x\n",
        "        self.y = y\n",
        "\n",
        "    def __add__(self, other):\n",
        "        return Vector(self.x + other.x, self.y + other.y)\n",
        "\n",
        "    def __str__(self):\n",
        "        return f\"({self.x}, {self.y})\"\n",
        "\n",
        "vector1 = Vector(2, 3)\n",
        "vector2 = Vector(4, 1)\n",
        "\n",
        "result_vector = vector1 + vector2\n",
        "\n",
        "print(f\"Result of vector addition: {result_vector}\")\n"
      ],
      "metadata": {
        "colab": {
          "base_uri": "https://localhost:8080/"
        },
        "id": "lygrc6JizGjk",
        "outputId": "9656f7b7-ddf4-4b80-d53a-67351e531a89"
      },
      "execution_count": 10,
      "outputs": [
        {
          "output_type": "stream",
          "name": "stdout",
          "text": [
            "Result of vector addition: (6, 4)\n"
          ]
        }
      ]
    },
    {
      "cell_type": "code",
      "source": [
        "#11    Create a class Person with attributes name and age. Add a method greet() that prints \"Hello, my name is {name} and I am {age} years old.\"\n",
        "\n",
        "\n",
        "class Person:\n",
        "    def __init__(self, name, age):\n",
        "        self.name = name\n",
        "        self.age = age\n",
        "\n",
        "    def greet(self):\n",
        "        print(f\"Hello, my name is {self.name} and I am {self.age} years old.\")\n",
        "\n",
        "person1 = Person(\"Alice\", 30)\n",
        "\n",
        "person1.greet()\n"
      ],
      "metadata": {
        "colab": {
          "base_uri": "https://localhost:8080/"
        },
        "id": "DroNjJnTzUK8",
        "outputId": "13fb63dd-7c95-4ff8-e29c-e88ea026b1d4"
      },
      "execution_count": 11,
      "outputs": [
        {
          "output_type": "stream",
          "name": "stdout",
          "text": [
            "Hello, my name is Alice and I am 30 years old.\n"
          ]
        }
      ]
    },
    {
      "cell_type": "code",
      "source": [
        "#12    Implement a class Student with attributes name and grades. Create a method average_grade() to compute the average of the grades.\n",
        "\n",
        "class Student:\n",
        "    def __init__(self, name, grades):\n",
        "        self.name = name\n",
        "        self.grades = grades\n",
        "\n",
        "    def average_grade(self):\n",
        "        if len(self.grades) == 0:\n",
        "            return 0\n",
        "        return sum(self.grades) / len(self.grades)\n",
        "\n",
        "student1 = Student(\"Alice\", [85, 90, 78, 92])\n",
        "\n",
        "average = student1.average_grade()\n",
        "\n",
        "print(f\"{student1.name}'s average grade is: {average}\")\n"
      ],
      "metadata": {
        "colab": {
          "base_uri": "https://localhost:8080/"
        },
        "id": "QMHVXPrkziC8",
        "outputId": "d0516c79-43da-41e2-9d15-fe36af0ba34a"
      },
      "execution_count": 12,
      "outputs": [
        {
          "output_type": "stream",
          "name": "stdout",
          "text": [
            "Alice's average grade is: 86.25\n"
          ]
        }
      ]
    },
    {
      "cell_type": "code",
      "source": [
        "#13   Create a class Rectangle with methods set_dimensions() to set the dimensions and area() to calculate the area\n",
        "\n",
        "class Rectangle:\n",
        "    def __init__(self, length=0, width=0):\n",
        "        self.length = length\n",
        "        self.width = width\n",
        "\n",
        "    def set_dimensions(self, length, width):\n",
        "        self.length = length\n",
        "        self.width = width\n",
        "\n",
        "    def area(self):\n",
        "        return self.length * self.width\n",
        "\n",
        "rect = Rectangle()\n",
        "\n",
        "rect.set_dimensions(5, 10)\n",
        "\n",
        "area_of_rectangle = rect.area()\n",
        "\n",
        "print(f\"The area of the rectangle is: {area_of_rectangle}\")\n"
      ],
      "metadata": {
        "colab": {
          "base_uri": "https://localhost:8080/"
        },
        "id": "zhqgDSLLz09r",
        "outputId": "c1a2d80e-caa2-4b27-e66c-6bfa2bb6316e"
      },
      "execution_count": 13,
      "outputs": [
        {
          "output_type": "stream",
          "name": "stdout",
          "text": [
            "The area of the rectangle is: 50\n"
          ]
        }
      ]
    },
    {
      "cell_type": "code",
      "source": [
        "#14    Create a class Employee with a method calculate_salary() that computes the salary based on hours worked and hourly rate. Create a derived class Manager that adds a bonus to the salary\n",
        "\n",
        "class Employee:\n",
        "    def __init__(self, name, hours_worked, hourly_rate):\n",
        "        self.name = name\n",
        "        self.hours_worked = hours_worked\n",
        "        self.hourly_rate = hourly_rate\n",
        "\n",
        "    def calculate_salary(self):\n",
        "        return self.hours_worked * self.hourly_rate\n",
        "\n",
        "class Manager(Employee):\n",
        "\n",
        "    def __init__(self, name, hours_worked, hourly_rate, bonus):\n",
        "        super().__init__(name, hours_worked, hourly_rate)\n",
        "        self.bonus = bonus\n",
        "\n",
        "    def calculate_salary(self):\n",
        "        base_salary = super().calculate_salary()\n",
        "        return base_salary + self.bonus\n",
        "\n",
        "employee = Employee(\"John\", 40, 20)\n",
        "\n",
        "manager = Manager(\"Alice\", 40, 30, 500)\n",
        "\n",
        "employee_salary = employee.calculate_salary()\n",
        "manager_salary = manager.calculate_salary()\n",
        "\n",
        "print(f\"{employee.name}'s salary: ${employee_salary}\")\n",
        "print(f\"{manager.name}'s salary: ${manager_salary}\")\n"
      ],
      "metadata": {
        "colab": {
          "base_uri": "https://localhost:8080/"
        },
        "id": "DULY7Jq-0EF-",
        "outputId": "6ea3a651-bb43-40c9-eb91-8d9fe62f0a36"
      },
      "execution_count": 14,
      "outputs": [
        {
          "output_type": "stream",
          "name": "stdout",
          "text": [
            "John's salary: $800\n",
            "Alice's salary: $1700\n"
          ]
        }
      ]
    },
    {
      "cell_type": "code",
      "source": [
        "#15   Create a class Product with attributes name, price, and quantity. Implement a method total_price() that calculates the total price of the product\n",
        "\n",
        "class Product:\n",
        "    def __init__(self, name, price, quantity):\n",
        "        self.name = name\n",
        "        self.price = price\n",
        "        self.quantity = quantity\n",
        "\n",
        "    def total_price(self):\n",
        "        return self.price * self.quantity\n",
        "\n",
        "product = Product(\"Laptop\", 1000, 3)\n",
        "\n",
        "total = product.total_price()\n",
        "\n",
        "print(f\"The total price for {product.name} is: ${total}\")\n"
      ],
      "metadata": {
        "colab": {
          "base_uri": "https://localhost:8080/"
        },
        "id": "0O5Rs2x_0Wlc",
        "outputId": "ff75f776-aa81-4938-b5c9-369b87d2428c"
      },
      "execution_count": 15,
      "outputs": [
        {
          "output_type": "stream",
          "name": "stdout",
          "text": [
            "The total price for Laptop is: $3000\n"
          ]
        }
      ]
    },
    {
      "cell_type": "code",
      "source": [
        "#16   Create a class Animal with an abstract method sound(). Create two derived classes Cow and Sheep that implement the sound() method\n",
        "\n",
        "from abc import ABC, abstractmethod\n",
        "\n",
        "class Animal(ABC):\n",
        "\n",
        "    @abstractmethod\n",
        "    def sound(self):\n",
        "        pass\n",
        "\n",
        "class Cow(Animal):\n",
        "    def sound(self):\n",
        "        return \"Moo\"\n",
        "\n",
        "class Sheep(Animal):\n",
        "    def sound(self):\n",
        "        return \"Baa\"\n",
        "\n",
        "cow = Cow()\n",
        "sheep = Sheep()\n",
        "\n",
        "print(f\"Cow makes sound: {cow.sound()}\")\n",
        "print(f\"Sheep makes sound: {sheep.sound()}\")\n"
      ],
      "metadata": {
        "colab": {
          "base_uri": "https://localhost:8080/"
        },
        "id": "E-RwZFnM0iNM",
        "outputId": "80c92ec7-e511-42a6-e2f6-37793c8f9c82"
      },
      "execution_count": 16,
      "outputs": [
        {
          "output_type": "stream",
          "name": "stdout",
          "text": [
            "Cow makes sound: Moo\n",
            "Sheep makes sound: Baa\n"
          ]
        }
      ]
    },
    {
      "cell_type": "code",
      "source": [
        "#17  Create a class Book with attributes title, author, and year_published. Add a method get_book_info() that returns a formatted string with the book's details\n",
        "\n",
        "class Book:\n",
        "    def __init__(self, title, author, year_published):\n",
        "        self.title = title\n",
        "        self.author = author\n",
        "        self.year_published = year_published\n",
        "\n",
        "    def get_book_info(self):\n",
        "        return f\"'{self.title}' by {self.author}, published in {self.year_published}\"\n",
        "\n",
        "book1 = Book(\"1984\", \"George Orwell\", 1949)\n",
        "\n",
        "book_info = book1.get_book_info()\n",
        "\n",
        "print(book_info)"
      ],
      "metadata": {
        "colab": {
          "base_uri": "https://localhost:8080/"
        },
        "id": "cUTBKnZd0zBr",
        "outputId": "04ea821b-a316-4a77-ae45-2741fd4b73c7"
      },
      "execution_count": 17,
      "outputs": [
        {
          "output_type": "stream",
          "name": "stdout",
          "text": [
            "'1984' by George Orwell, published in 1949\n"
          ]
        }
      ]
    },
    {
      "cell_type": "code",
      "source": [
        "#18    Create a class House with attributes address and price. Create a derived class Mansion that adds an attribute number_of_rooms\n",
        "\n",
        "\n",
        "class House:\n",
        "    def __init__(self, address, price):\n",
        "        self.address = address\n",
        "        self.price = price\n",
        "\n",
        "    def get_house_info(self):\n",
        "        return f\"Address: {self.address}, Price: ${self.price}\"\n",
        "\n",
        "class Mansion(House):\n",
        "    def __init__(self, address, price, number_of_rooms):\n",
        "        super().__init__(address, price)\n",
        "        self.number_of_rooms = number_of_rooms\n",
        "\n",
        "    def get_mansion_info(self):\n",
        "        return f\"{self.get_house_info()}, Number of Rooms: {self.number_of_rooms}\"\n",
        "\n",
        "house = House(\"123 Main St\", 250000)\n",
        "\n",
        "mansion = Mansion(\"456 Grand Ave\", 5000000, 20)\n",
        "\n",
        "house_info = house.get_house_info()\n",
        "mansion_info = mansion.get_mansion_info()\n",
        "\n",
        "print(house_info)\n",
        "print(mansion_info)\n"
      ],
      "metadata": {
        "colab": {
          "base_uri": "https://localhost:8080/"
        },
        "id": "gS9FrEM509B8",
        "outputId": "23197796-d4b5-4a7b-bcb4-670d3779a6c2"
      },
      "execution_count": 18,
      "outputs": [
        {
          "output_type": "stream",
          "name": "stdout",
          "text": [
            "Address: 123 Main St, Price: $250000\n",
            "Address: 456 Grand Ave, Price: $5000000, Number of Rooms: 20\n"
          ]
        }
      ]
    }
  ]
}